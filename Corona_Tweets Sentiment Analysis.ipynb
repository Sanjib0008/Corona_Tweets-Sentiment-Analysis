{
 "cells": [
  {
   "cell_type": "code",
   "execution_count": 1,
   "metadata": {},
   "outputs": [],
   "source": [
    "import pandas as pd\n",
    "import numpy as np\n",
    "import zipfile\n",
    "import os\n",
    "import seaborn as sns"
   ]
  },
  {
   "cell_type": "code",
   "execution_count": 2,
   "metadata": {},
   "outputs": [
    {
     "name": "stdout",
     "output_type": "stream",
     "text": [
      "Corona_NLP_test.csv\n",
      "Corona_NLP_train.csv\n"
     ]
    }
   ],
   "source": [
    "zipfile_path=\"E:\\\\Personal\\\\Training Programme\\\\Python\\\\script\\\\Corona_Datasets.zip\"\n",
    "extracted_path=\"E:\\Personal\\Training Programme\\Python\\script\\Corona_Datasets_Test\"\n",
    "\n",
    "with zipfile.ZipFile(zipfile_path,\"r\") as zip_ref:\n",
    "    zip_ref.extractall(extracted_path)\n",
    "\n",
    "extracted_file=os.listdir(extracted_path)\n",
    "for file in extracted_file:\n",
    "    print(file);"
   ]
  },
  {
   "cell_type": "code",
   "execution_count": 4,
   "metadata": {},
   "outputs": [],
   "source": [
    "train=pd.read_csv(r\"E:\\Personal\\Training Programme\\Python\\script\\Corona_Datasets_Test\\Corona_NLP_train.csv\", encoding='latin')\n",
    "test=pd.read_csv(r\"E:\\Personal\\Training Programme\\Python\\script\\Corona_Datasets_Test\\Corona_NLP_test.csv\",encoding='latin')\n",
    "corona=pd.concat([train,test])\n"
   ]
  },
  {
   "cell_type": "code",
   "execution_count": 5,
   "metadata": {},
   "outputs": [
    {
     "name": "stdout",
     "output_type": "stream",
     "text": [
      "<class 'pandas.core.frame.DataFrame'>\n",
      "Index: 44955 entries, 0 to 3797\n",
      "Data columns (total 6 columns):\n",
      " #   Column         Non-Null Count  Dtype \n",
      "---  ------         --------------  ----- \n",
      " 0   UserName       44955 non-null  int64 \n",
      " 1   ScreenName     44955 non-null  int64 \n",
      " 2   Location       35531 non-null  object\n",
      " 3   TweetAt        44955 non-null  object\n",
      " 4   OriginalTweet  44955 non-null  object\n",
      " 5   Sentiment      44955 non-null  object\n",
      "dtypes: int64(2), object(4)\n",
      "memory usage: 2.4+ MB\n"
     ]
    }
   ],
   "source": [
    "corona.info()"
   ]
  },
  {
   "cell_type": "code",
   "execution_count": 6,
   "metadata": {},
   "outputs": [
    {
     "data": {
      "text/html": [
       "<div>\n",
       "<style scoped>\n",
       "    .dataframe tbody tr th:only-of-type {\n",
       "        vertical-align: middle;\n",
       "    }\n",
       "\n",
       "    .dataframe tbody tr th {\n",
       "        vertical-align: top;\n",
       "    }\n",
       "\n",
       "    .dataframe thead th {\n",
       "        text-align: right;\n",
       "    }\n",
       "</style>\n",
       "<table border=\"1\" class=\"dataframe\">\n",
       "  <thead>\n",
       "    <tr style=\"text-align: right;\">\n",
       "      <th></th>\n",
       "      <th>UserName</th>\n",
       "      <th>ScreenName</th>\n",
       "      <th>Location</th>\n",
       "      <th>TweetAt</th>\n",
       "      <th>OriginalTweet</th>\n",
       "      <th>Sentiment</th>\n",
       "    </tr>\n",
       "  </thead>\n",
       "  <tbody>\n",
       "    <tr>\n",
       "      <th>0</th>\n",
       "      <td>3799</td>\n",
       "      <td>48751</td>\n",
       "      <td>London</td>\n",
       "      <td>16-03-2020</td>\n",
       "      <td>@MeNyrbie @Phil_Gahan @Chrisitv https://t.co/i...</td>\n",
       "      <td>Neutral</td>\n",
       "    </tr>\n",
       "    <tr>\n",
       "      <th>1</th>\n",
       "      <td>3800</td>\n",
       "      <td>48752</td>\n",
       "      <td>UK</td>\n",
       "      <td>16-03-2020</td>\n",
       "      <td>advice Talk to your neighbours family to excha...</td>\n",
       "      <td>Positive</td>\n",
       "    </tr>\n",
       "    <tr>\n",
       "      <th>2</th>\n",
       "      <td>3801</td>\n",
       "      <td>48753</td>\n",
       "      <td>Vagabonds</td>\n",
       "      <td>16-03-2020</td>\n",
       "      <td>Coronavirus Australia: Woolworths to give elde...</td>\n",
       "      <td>Positive</td>\n",
       "    </tr>\n",
       "    <tr>\n",
       "      <th>3</th>\n",
       "      <td>3802</td>\n",
       "      <td>48754</td>\n",
       "      <td>NaN</td>\n",
       "      <td>16-03-2020</td>\n",
       "      <td>My food stock is not the only one which is emp...</td>\n",
       "      <td>Positive</td>\n",
       "    </tr>\n",
       "    <tr>\n",
       "      <th>4</th>\n",
       "      <td>3803</td>\n",
       "      <td>48755</td>\n",
       "      <td>NaN</td>\n",
       "      <td>16-03-2020</td>\n",
       "      <td>Me, ready to go at supermarket during the #COV...</td>\n",
       "      <td>Extremely Negative</td>\n",
       "    </tr>\n",
       "  </tbody>\n",
       "</table>\n",
       "</div>"
      ],
      "text/plain": [
       "   UserName  ScreenName   Location     TweetAt  \\\n",
       "0      3799       48751     London  16-03-2020   \n",
       "1      3800       48752         UK  16-03-2020   \n",
       "2      3801       48753  Vagabonds  16-03-2020   \n",
       "3      3802       48754        NaN  16-03-2020   \n",
       "4      3803       48755        NaN  16-03-2020   \n",
       "\n",
       "                                       OriginalTweet           Sentiment  \n",
       "0  @MeNyrbie @Phil_Gahan @Chrisitv https://t.co/i...             Neutral  \n",
       "1  advice Talk to your neighbours family to excha...            Positive  \n",
       "2  Coronavirus Australia: Woolworths to give elde...            Positive  \n",
       "3  My food stock is not the only one which is emp...            Positive  \n",
       "4  Me, ready to go at supermarket during the #COV...  Extremely Negative  "
      ]
     },
     "execution_count": 6,
     "metadata": {},
     "output_type": "execute_result"
    }
   ],
   "source": [
    "corona.head()"
   ]
  },
  {
   "cell_type": "code",
   "execution_count": 7,
   "metadata": {},
   "outputs": [
    {
     "data": {
      "text/html": [
       "<div>\n",
       "<style scoped>\n",
       "    .dataframe tbody tr th:only-of-type {\n",
       "        vertical-align: middle;\n",
       "    }\n",
       "\n",
       "    .dataframe tbody tr th {\n",
       "        vertical-align: top;\n",
       "    }\n",
       "\n",
       "    .dataframe thead th {\n",
       "        text-align: right;\n",
       "    }\n",
       "</style>\n",
       "<table border=\"1\" class=\"dataframe\">\n",
       "  <thead>\n",
       "    <tr style=\"text-align: right;\">\n",
       "      <th></th>\n",
       "      <th>UserName</th>\n",
       "      <th>ScreenName</th>\n",
       "    </tr>\n",
       "  </thead>\n",
       "  <tbody>\n",
       "    <tr>\n",
       "      <th>count</th>\n",
       "      <td>44955.000000</td>\n",
       "      <td>44955.000000</td>\n",
       "    </tr>\n",
       "    <tr>\n",
       "      <th>mean</th>\n",
       "      <td>22478.000000</td>\n",
       "      <td>67430.000000</td>\n",
       "    </tr>\n",
       "    <tr>\n",
       "      <th>std</th>\n",
       "      <td>12977.535012</td>\n",
       "      <td>12977.535012</td>\n",
       "    </tr>\n",
       "    <tr>\n",
       "      <th>min</th>\n",
       "      <td>1.000000</td>\n",
       "      <td>44953.000000</td>\n",
       "    </tr>\n",
       "    <tr>\n",
       "      <th>25%</th>\n",
       "      <td>11239.500000</td>\n",
       "      <td>56191.500000</td>\n",
       "    </tr>\n",
       "    <tr>\n",
       "      <th>50%</th>\n",
       "      <td>22478.000000</td>\n",
       "      <td>67430.000000</td>\n",
       "    </tr>\n",
       "    <tr>\n",
       "      <th>75%</th>\n",
       "      <td>33716.500000</td>\n",
       "      <td>78668.500000</td>\n",
       "    </tr>\n",
       "    <tr>\n",
       "      <th>max</th>\n",
       "      <td>44955.000000</td>\n",
       "      <td>89907.000000</td>\n",
       "    </tr>\n",
       "  </tbody>\n",
       "</table>\n",
       "</div>"
      ],
      "text/plain": [
       "           UserName    ScreenName\n",
       "count  44955.000000  44955.000000\n",
       "mean   22478.000000  67430.000000\n",
       "std    12977.535012  12977.535012\n",
       "min        1.000000  44953.000000\n",
       "25%    11239.500000  56191.500000\n",
       "50%    22478.000000  67430.000000\n",
       "75%    33716.500000  78668.500000\n",
       "max    44955.000000  89907.000000"
      ]
     },
     "execution_count": 7,
     "metadata": {},
     "output_type": "execute_result"
    }
   ],
   "source": [
    "corona.describe()"
   ]
  },
  {
   "cell_type": "code",
   "execution_count": 8,
   "metadata": {},
   "outputs": [
    {
     "data": {
      "text/plain": [
       "0"
      ]
     },
     "execution_count": 8,
     "metadata": {},
     "output_type": "execute_result"
    }
   ],
   "source": [
    "corona.duplicated().sum()"
   ]
  },
  {
   "cell_type": "code",
   "execution_count": 9,
   "metadata": {},
   "outputs": [
    {
     "data": {
      "text/plain": [
       "UserName            0\n",
       "ScreenName          0\n",
       "Location         9424\n",
       "TweetAt             0\n",
       "OriginalTweet       0\n",
       "Sentiment           0\n",
       "dtype: int64"
      ]
     },
     "execution_count": 9,
     "metadata": {},
     "output_type": "execute_result"
    }
   ],
   "source": [
    "corona.isnull().sum()"
   ]
  },
  {
   "cell_type": "code",
   "execution_count": 10,
   "metadata": {},
   "outputs": [],
   "source": [
    "corona.drop(['Location','TweetAt'],axis=1,inplace=True) # Drop unwanted column"
   ]
  },
  {
   "cell_type": "code",
   "execution_count": 11,
   "metadata": {},
   "outputs": [],
   "source": [
    "corona1=corona[corona['Sentiment'] != 'Neutral'] # drop neutral data"
   ]
  },
  {
   "cell_type": "code",
   "execution_count": 12,
   "metadata": {},
   "outputs": [
    {
     "name": "stdout",
     "output_type": "stream",
     "text": [
      "Sentiment\n",
      "Positive              12369\n",
      "Negative              10958\n",
      "Extremely Positive     7223\n",
      "Extremely Negative     6073\n",
      "Name: count, dtype: int64\n"
     ]
    },
    {
     "name": "stderr",
     "output_type": "stream",
     "text": [
      "C:\\Users\\manna\\AppData\\Local\\Temp\\ipykernel_9640\\3045674151.py:2: FutureWarning: \n",
      "\n",
      "Passing `palette` without assigning `hue` is deprecated and will be removed in v0.14.0. Assign the `x` variable to `hue` and set `legend=False` for the same effect.\n",
      "\n",
      "  sns.countplot(x=\"Sentiment\", data=corona1, palette='deep')\n"
     ]
    },
    {
     "data": {
      "text/plain": [
       "<Axes: xlabel='Sentiment', ylabel='count'>"
      ]
     },
     "execution_count": 12,
     "metadata": {},
     "output_type": "execute_result"
    },
    {
     "data": {
      "image/png": "[encoded data removed]",
      "text/plain": [
       "<Figure size 640x480 with 1 Axes>"
      ]
     },
     "metadata": {},
     "output_type": "display_data"
    }
   ],
   "source": [
    "print(corona1['Sentiment'].value_counts())\n",
    "sns.countplot(x=\"Sentiment\", data=corona1, palette='deep')"
   ]
  },
  {
   "cell_type": "code",
   "execution_count": 11,
   "metadata": {},
   "outputs": [
    {
     "name": "stderr",
     "output_type": "stream",
     "text": [
      "C:\\Users\\manna\\AppData\\Local\\Temp\\ipykernel_824\\1905024881.py:1: SettingWithCopyWarning: \n",
      "A value is trying to be set on a copy of a slice from a DataFrame.\n",
      "Try using .loc[row_indexer,col_indexer] = value instead\n",
      "\n",
      "See the caveats in the documentation: https://pandas.pydata.org/pandas-docs/stable/user_guide/indexing.html#returning-a-view-versus-a-copy\n",
      "  corona1['tweet_copy2'] = corona1['OriginalTweet'] * 2 # create duplicate field\n",
      "C:\\Users\\manna\\AppData\\Local\\Temp\\ipykernel_824\\1905024881.py:2: SettingWithCopyWarning: \n",
      "A value is trying to be set on a copy of a slice from a DataFrame.\n",
      "Try using .loc[row_indexer,col_indexer] = value instead\n",
      "\n",
      "See the caveats in the documentation: https://pandas.pydata.org/pandas-docs/stable/user_guide/indexing.html#returning-a-view-versus-a-copy\n",
      "  corona1['tweet_copy1'] = corona1['OriginalTweet'] * 2\n",
      "C:\\Users\\manna\\AppData\\Local\\Temp\\ipykernel_824\\1905024881.py:3: SettingWithCopyWarning: \n",
      "A value is trying to be set on a copy of a slice from a DataFrame.\n",
      "Try using .loc[row_indexer,col_indexer] = value instead\n",
      "\n",
      "See the caveats in the documentation: https://pandas.pydata.org/pandas-docs/stable/user_guide/indexing.html#returning-a-view-versus-a-copy\n",
      "  corona1['tweet_copy3'] = corona1['OriginalTweet'] * 2\n"
     ]
    }
   ],
   "source": [
    "corona1['tweet_copy2'] = corona1['OriginalTweet'] * 2 # create duplicate field\n",
    "corona1['tweet_copy1'] = corona1['OriginalTweet'] * 2\n",
    "corona1['tweet_copy3'] = corona1['OriginalTweet'] * 2"
   ]
  },
  {
   "cell_type": "code",
   "execution_count": 12,
   "metadata": {},
   "outputs": [
    {
     "data": {
      "text/html": [
       "<div>\n",
       "<style scoped>\n",
       "    .dataframe tbody tr th:only-of-type {\n",
       "        vertical-align: middle;\n",
       "    }\n",
       "\n",
       "    .dataframe tbody tr th {\n",
       "        vertical-align: top;\n",
       "    }\n",
       "\n",
       "    .dataframe thead th {\n",
       "        text-align: right;\n",
       "    }\n",
       "</style>\n",
       "<table border=\"1\" class=\"dataframe\">\n",
       "  <thead>\n",
       "    <tr style=\"text-align: right;\">\n",
       "      <th></th>\n",
       "      <th>UserName</th>\n",
       "      <th>ScreenName</th>\n",
       "      <th>OriginalTweet</th>\n",
       "      <th>Sentiment</th>\n",
       "      <th>tweet_copy2</th>\n",
       "      <th>tweet_copy1</th>\n",
       "      <th>tweet_copy3</th>\n",
       "    </tr>\n",
       "  </thead>\n",
       "  <tbody>\n",
       "    <tr>\n",
       "      <th>1</th>\n",
       "      <td>3800</td>\n",
       "      <td>48752</td>\n",
       "      <td>advice Talk to your neighbours family to excha...</td>\n",
       "      <td>Positive</td>\n",
       "      <td>advice Talk to your neighbours family to excha...</td>\n",
       "      <td>advice Talk to your neighbours family to excha...</td>\n",
       "      <td>advice Talk to your neighbours family to excha...</td>\n",
       "    </tr>\n",
       "    <tr>\n",
       "      <th>2</th>\n",
       "      <td>3801</td>\n",
       "      <td>48753</td>\n",
       "      <td>Coronavirus Australia: Woolworths to give elde...</td>\n",
       "      <td>Positive</td>\n",
       "      <td>Coronavirus Australia: Woolworths to give elde...</td>\n",
       "      <td>Coronavirus Australia: Woolworths to give elde...</td>\n",
       "      <td>Coronavirus Australia: Woolworths to give elde...</td>\n",
       "    </tr>\n",
       "    <tr>\n",
       "      <th>3</th>\n",
       "      <td>3802</td>\n",
       "      <td>48754</td>\n",
       "      <td>My food stock is not the only one which is emp...</td>\n",
       "      <td>Positive</td>\n",
       "      <td>My food stock is not the only one which is emp...</td>\n",
       "      <td>My food stock is not the only one which is emp...</td>\n",
       "      <td>My food stock is not the only one which is emp...</td>\n",
       "    </tr>\n",
       "    <tr>\n",
       "      <th>4</th>\n",
       "      <td>3803</td>\n",
       "      <td>48755</td>\n",
       "      <td>Me, ready to go at supermarket during the #COV...</td>\n",
       "      <td>Extremely Negative</td>\n",
       "      <td>Me, ready to go at supermarket during the #COV...</td>\n",
       "      <td>Me, ready to go at supermarket during the #COV...</td>\n",
       "      <td>Me, ready to go at supermarket during the #COV...</td>\n",
       "    </tr>\n",
       "    <tr>\n",
       "      <th>5</th>\n",
       "      <td>3804</td>\n",
       "      <td>48756</td>\n",
       "      <td>As news of the regionÂs first confirmed COVID...</td>\n",
       "      <td>Positive</td>\n",
       "      <td>As news of the regionÂs first confirmed COVID...</td>\n",
       "      <td>As news of the regionÂs first confirmed COVID...</td>\n",
       "      <td>As news of the regionÂs first confirmed COVID...</td>\n",
       "    </tr>\n",
       "    <tr>\n",
       "      <th>...</th>\n",
       "      <td>...</td>\n",
       "      <td>...</td>\n",
       "      <td>...</td>\n",
       "      <td>...</td>\n",
       "      <td>...</td>\n",
       "      <td>...</td>\n",
       "      <td>...</td>\n",
       "    </tr>\n",
       "    <tr>\n",
       "      <th>3792</th>\n",
       "      <td>3793</td>\n",
       "      <td>48745</td>\n",
       "      <td>@RicePolitics @MDCounties Craig, will you call...</td>\n",
       "      <td>Negative</td>\n",
       "      <td>@RicePolitics @MDCounties Craig, will you call...</td>\n",
       "      <td>@RicePolitics @MDCounties Craig, will you call...</td>\n",
       "      <td>@RicePolitics @MDCounties Craig, will you call...</td>\n",
       "    </tr>\n",
       "    <tr>\n",
       "      <th>3793</th>\n",
       "      <td>3794</td>\n",
       "      <td>48746</td>\n",
       "      <td>Meanwhile In A Supermarket in Israel -- People...</td>\n",
       "      <td>Positive</td>\n",
       "      <td>Meanwhile In A Supermarket in Israel -- People...</td>\n",
       "      <td>Meanwhile In A Supermarket in Israel -- People...</td>\n",
       "      <td>Meanwhile In A Supermarket in Israel -- People...</td>\n",
       "    </tr>\n",
       "    <tr>\n",
       "      <th>3794</th>\n",
       "      <td>3795</td>\n",
       "      <td>48747</td>\n",
       "      <td>Did you panic buy a lot of non-perishable item...</td>\n",
       "      <td>Negative</td>\n",
       "      <td>Did you panic buy a lot of non-perishable item...</td>\n",
       "      <td>Did you panic buy a lot of non-perishable item...</td>\n",
       "      <td>Did you panic buy a lot of non-perishable item...</td>\n",
       "    </tr>\n",
       "    <tr>\n",
       "      <th>3796</th>\n",
       "      <td>3797</td>\n",
       "      <td>48749</td>\n",
       "      <td>Gov need to do somethings instead of biar je r...</td>\n",
       "      <td>Extremely Negative</td>\n",
       "      <td>Gov need to do somethings instead of biar je r...</td>\n",
       "      <td>Gov need to do somethings instead of biar je r...</td>\n",
       "      <td>Gov need to do somethings instead of biar je r...</td>\n",
       "    </tr>\n",
       "    <tr>\n",
       "      <th>3797</th>\n",
       "      <td>3798</td>\n",
       "      <td>48750</td>\n",
       "      <td>I and @ForestandPaper members are committed to...</td>\n",
       "      <td>Extremely Positive</td>\n",
       "      <td>I and @ForestandPaper members are committed to...</td>\n",
       "      <td>I and @ForestandPaper members are committed to...</td>\n",
       "      <td>I and @ForestandPaper members are committed to...</td>\n",
       "    </tr>\n",
       "  </tbody>\n",
       "</table>\n",
       "<p>36623 rows × 7 columns</p>\n",
       "</div>"
      ],
      "text/plain": [
       "      UserName  ScreenName                                      OriginalTweet  \\\n",
       "1         3800       48752  advice Talk to your neighbours family to excha...   \n",
       "2         3801       48753  Coronavirus Australia: Woolworths to give elde...   \n",
       "3         3802       48754  My food stock is not the only one which is emp...   \n",
       "4         3803       48755  Me, ready to go at supermarket during the #COV...   \n",
       "5         3804       48756  As news of the regionÂs first confirmed COVID...   \n",
       "...        ...         ...                                                ...   \n",
       "3792      3793       48745  @RicePolitics @MDCounties Craig, will you call...   \n",
       "3793      3794       48746  Meanwhile In A Supermarket in Israel -- People...   \n",
       "3794      3795       48747  Did you panic buy a lot of non-perishable item...   \n",
       "3796      3797       48749  Gov need to do somethings instead of biar je r...   \n",
       "3797      3798       48750  I and @ForestandPaper members are committed to...   \n",
       "\n",
       "               Sentiment                                        tweet_copy2  \\\n",
       "1               Positive  advice Talk to your neighbours family to excha...   \n",
       "2               Positive  Coronavirus Australia: Woolworths to give elde...   \n",
       "3               Positive  My food stock is not the only one which is emp...   \n",
       "4     Extremely Negative  Me, ready to go at supermarket during the #COV...   \n",
       "5               Positive  As news of the regionÂs first confirmed COVID...   \n",
       "...                  ...                                                ...   \n",
       "3792            Negative  @RicePolitics @MDCounties Craig, will you call...   \n",
       "3793            Positive  Meanwhile In A Supermarket in Israel -- People...   \n",
       "3794            Negative  Did you panic buy a lot of non-perishable item...   \n",
       "3796  Extremely Negative  Gov need to do somethings instead of biar je r...   \n",
       "3797  Extremely Positive  I and @ForestandPaper members are committed to...   \n",
       "\n",
       "                                            tweet_copy1  \\\n",
       "1     advice Talk to your neighbours family to excha...   \n",
       "2     Coronavirus Australia: Woolworths to give elde...   \n",
       "3     My food stock is not the only one which is emp...   \n",
       "4     Me, ready to go at supermarket during the #COV...   \n",
       "5     As news of the regionÂs first confirmed COVID...   \n",
       "...                                                 ...   \n",
       "3792  @RicePolitics @MDCounties Craig, will you call...   \n",
       "3793  Meanwhile In A Supermarket in Israel -- People...   \n",
       "3794  Did you panic buy a lot of non-perishable item...   \n",
       "3796  Gov need to do somethings instead of biar je r...   \n",
       "3797  I and @ForestandPaper members are committed to...   \n",
       "\n",
       "                                            tweet_copy3  \n",
       "1     advice Talk to your neighbours family to excha...  \n",
       "2     Coronavirus Australia: Woolworths to give elde...  \n",
       "3     My food stock is not the only one which is emp...  \n",
       "4     Me, ready to go at supermarket during the #COV...  \n",
       "5     As news of the regionÂs first confirmed COVID...  \n",
       "...                                                 ...  \n",
       "3792  @RicePolitics @MDCounties Craig, will you call...  \n",
       "3793  Meanwhile In A Supermarket in Israel -- People...  \n",
       "3794  Did you panic buy a lot of non-perishable item...  \n",
       "3796  Gov need to do somethings instead of biar je r...  \n",
       "3797  I and @ForestandPaper members are committed to...  \n",
       "\n",
       "[36623 rows x 7 columns]"
      ]
     },
     "execution_count": 12,
     "metadata": {},
     "output_type": "execute_result"
    }
   ],
   "source": [
    "corona1"
   ]
  },
  {
   "cell_type": "code",
   "execution_count": 13,
   "metadata": {},
   "outputs": [
    {
     "data": {
      "text/plain": [
       "Sentiment\n",
       "Positive              12369\n",
       "Negative              10958\n",
       "Extremely Positive     7223\n",
       "Extremely Negative     6073\n",
       "Name: count, dtype: int64"
      ]
     },
     "execution_count": 13,
     "metadata": {},
     "output_type": "execute_result"
    }
   ],
   "source": [
    "corona1['Sentiment'].value_counts()"
   ]
  },
  {
   "cell_type": "code",
   "execution_count": 14,
   "metadata": {},
   "outputs": [
    {
     "name": "stderr",
     "output_type": "stream",
     "text": [
      "C:\\Users\\manna\\AppData\\Local\\Temp\\ipykernel_824\\334999186.py:2: SettingWithCopyWarning: \n",
      "A value is trying to be set on a copy of a slice from a DataFrame.\n",
      "Try using .loc[row_indexer,col_indexer] = value instead\n",
      "\n",
      "See the caveats in the documentation: https://pandas.pydata.org/pandas-docs/stable/user_guide/indexing.html#returning-a-view-versus-a-copy\n",
      "  corona1['Label'] = labels\n"
     ]
    },
    {
     "data": {
      "text/html": [
       "<div>\n",
       "<style scoped>\n",
       "    .dataframe tbody tr th:only-of-type {\n",
       "        vertical-align: middle;\n",
       "    }\n",
       "\n",
       "    .dataframe tbody tr th {\n",
       "        vertical-align: top;\n",
       "    }\n",
       "\n",
       "    .dataframe thead th {\n",
       "        text-align: right;\n",
       "    }\n",
       "</style>\n",
       "<table border=\"1\" class=\"dataframe\">\n",
       "  <thead>\n",
       "    <tr style=\"text-align: right;\">\n",
       "      <th></th>\n",
       "      <th>UserName</th>\n",
       "      <th>ScreenName</th>\n",
       "      <th>OriginalTweet</th>\n",
       "      <th>Sentiment</th>\n",
       "      <th>tweet_copy2</th>\n",
       "      <th>tweet_copy1</th>\n",
       "      <th>tweet_copy3</th>\n",
       "      <th>Label</th>\n",
       "    </tr>\n",
       "  </thead>\n",
       "  <tbody>\n",
       "    <tr>\n",
       "      <th>1</th>\n",
       "      <td>3800</td>\n",
       "      <td>48752</td>\n",
       "      <td>advice Talk to your neighbours family to excha...</td>\n",
       "      <td>Positive</td>\n",
       "      <td>advice Talk to your neighbours family to excha...</td>\n",
       "      <td>advice Talk to your neighbours family to excha...</td>\n",
       "      <td>advice Talk to your neighbours family to excha...</td>\n",
       "      <td>1</td>\n",
       "    </tr>\n",
       "    <tr>\n",
       "      <th>2</th>\n",
       "      <td>3801</td>\n",
       "      <td>48753</td>\n",
       "      <td>Coronavirus Australia: Woolworths to give elde...</td>\n",
       "      <td>Positive</td>\n",
       "      <td>Coronavirus Australia: Woolworths to give elde...</td>\n",
       "      <td>Coronavirus Australia: Woolworths to give elde...</td>\n",
       "      <td>Coronavirus Australia: Woolworths to give elde...</td>\n",
       "      <td>1</td>\n",
       "    </tr>\n",
       "    <tr>\n",
       "      <th>3</th>\n",
       "      <td>3802</td>\n",
       "      <td>48754</td>\n",
       "      <td>My food stock is not the only one which is emp...</td>\n",
       "      <td>Positive</td>\n",
       "      <td>My food stock is not the only one which is emp...</td>\n",
       "      <td>My food stock is not the only one which is emp...</td>\n",
       "      <td>My food stock is not the only one which is emp...</td>\n",
       "      <td>1</td>\n",
       "    </tr>\n",
       "    <tr>\n",
       "      <th>4</th>\n",
       "      <td>3803</td>\n",
       "      <td>48755</td>\n",
       "      <td>Me, ready to go at supermarket during the #COV...</td>\n",
       "      <td>Extremely Negative</td>\n",
       "      <td>Me, ready to go at supermarket during the #COV...</td>\n",
       "      <td>Me, ready to go at supermarket during the #COV...</td>\n",
       "      <td>Me, ready to go at supermarket during the #COV...</td>\n",
       "      <td>0</td>\n",
       "    </tr>\n",
       "    <tr>\n",
       "      <th>5</th>\n",
       "      <td>3804</td>\n",
       "      <td>48756</td>\n",
       "      <td>As news of the regionÂs first confirmed COVID...</td>\n",
       "      <td>Positive</td>\n",
       "      <td>As news of the regionÂs first confirmed COVID...</td>\n",
       "      <td>As news of the regionÂs first confirmed COVID...</td>\n",
       "      <td>As news of the regionÂs first confirmed COVID...</td>\n",
       "      <td>1</td>\n",
       "    </tr>\n",
       "    <tr>\n",
       "      <th>...</th>\n",
       "      <td>...</td>\n",
       "      <td>...</td>\n",
       "      <td>...</td>\n",
       "      <td>...</td>\n",
       "      <td>...</td>\n",
       "      <td>...</td>\n",
       "      <td>...</td>\n",
       "      <td>...</td>\n",
       "    </tr>\n",
       "    <tr>\n",
       "      <th>3792</th>\n",
       "      <td>3793</td>\n",
       "      <td>48745</td>\n",
       "      <td>@RicePolitics @MDCounties Craig, will you call...</td>\n",
       "      <td>Negative</td>\n",
       "      <td>@RicePolitics @MDCounties Craig, will you call...</td>\n",
       "      <td>@RicePolitics @MDCounties Craig, will you call...</td>\n",
       "      <td>@RicePolitics @MDCounties Craig, will you call...</td>\n",
       "      <td>0</td>\n",
       "    </tr>\n",
       "    <tr>\n",
       "      <th>3793</th>\n",
       "      <td>3794</td>\n",
       "      <td>48746</td>\n",
       "      <td>Meanwhile In A Supermarket in Israel -- People...</td>\n",
       "      <td>Positive</td>\n",
       "      <td>Meanwhile In A Supermarket in Israel -- People...</td>\n",
       "      <td>Meanwhile In A Supermarket in Israel -- People...</td>\n",
       "      <td>Meanwhile In A Supermarket in Israel -- People...</td>\n",
       "      <td>1</td>\n",
       "    </tr>\n",
       "    <tr>\n",
       "      <th>3794</th>\n",
       "      <td>3795</td>\n",
       "      <td>48747</td>\n",
       "      <td>Did you panic buy a lot of non-perishable item...</td>\n",
       "      <td>Negative</td>\n",
       "      <td>Did you panic buy a lot of non-perishable item...</td>\n",
       "      <td>Did you panic buy a lot of non-perishable item...</td>\n",
       "      <td>Did you panic buy a lot of non-perishable item...</td>\n",
       "      <td>0</td>\n",
       "    </tr>\n",
       "    <tr>\n",
       "      <th>3796</th>\n",
       "      <td>3797</td>\n",
       "      <td>48749</td>\n",
       "      <td>Gov need to do somethings instead of biar je r...</td>\n",
       "      <td>Extremely Negative</td>\n",
       "      <td>Gov need to do somethings instead of biar je r...</td>\n",
       "      <td>Gov need to do somethings instead of biar je r...</td>\n",
       "      <td>Gov need to do somethings instead of biar je r...</td>\n",
       "      <td>0</td>\n",
       "    </tr>\n",
       "    <tr>\n",
       "      <th>3797</th>\n",
       "      <td>3798</td>\n",
       "      <td>48750</td>\n",
       "      <td>I and @ForestandPaper members are committed to...</td>\n",
       "      <td>Extremely Positive</td>\n",
       "      <td>I and @ForestandPaper members are committed to...</td>\n",
       "      <td>I and @ForestandPaper members are committed to...</td>\n",
       "      <td>I and @ForestandPaper members are committed to...</td>\n",
       "      <td>1</td>\n",
       "    </tr>\n",
       "  </tbody>\n",
       "</table>\n",
       "<p>36623 rows × 8 columns</p>\n",
       "</div>"
      ],
      "text/plain": [
       "      UserName  ScreenName                                      OriginalTweet  \\\n",
       "1         3800       48752  advice Talk to your neighbours family to excha...   \n",
       "2         3801       48753  Coronavirus Australia: Woolworths to give elde...   \n",
       "3         3802       48754  My food stock is not the only one which is emp...   \n",
       "4         3803       48755  Me, ready to go at supermarket during the #COV...   \n",
       "5         3804       48756  As news of the regionÂs first confirmed COVID...   \n",
       "...        ...         ...                                                ...   \n",
       "3792      3793       48745  @RicePolitics @MDCounties Craig, will you call...   \n",
       "3793      3794       48746  Meanwhile In A Supermarket in Israel -- People...   \n",
       "3794      3795       48747  Did you panic buy a lot of non-perishable item...   \n",
       "3796      3797       48749  Gov need to do somethings instead of biar je r...   \n",
       "3797      3798       48750  I and @ForestandPaper members are committed to...   \n",
       "\n",
       "               Sentiment                                        tweet_copy2  \\\n",
       "1               Positive  advice Talk to your neighbours family to excha...   \n",
       "2               Positive  Coronavirus Australia: Woolworths to give elde...   \n",
       "3               Positive  My food stock is not the only one which is emp...   \n",
       "4     Extremely Negative  Me, ready to go at supermarket during the #COV...   \n",
       "5               Positive  As news of the regionÂs first confirmed COVID...   \n",
       "...                  ...                                                ...   \n",
       "3792            Negative  @RicePolitics @MDCounties Craig, will you call...   \n",
       "3793            Positive  Meanwhile In A Supermarket in Israel -- People...   \n",
       "3794            Negative  Did you panic buy a lot of non-perishable item...   \n",
       "3796  Extremely Negative  Gov need to do somethings instead of biar je r...   \n",
       "3797  Extremely Positive  I and @ForestandPaper members are committed to...   \n",
       "\n",
       "                                            tweet_copy1  \\\n",
       "1     advice Talk to your neighbours family to excha...   \n",
       "2     Coronavirus Australia: Woolworths to give elde...   \n",
       "3     My food stock is not the only one which is emp...   \n",
       "4     Me, ready to go at supermarket during the #COV...   \n",
       "5     As news of the regionÂs first confirmed COVID...   \n",
       "...                                                 ...   \n",
       "3792  @RicePolitics @MDCounties Craig, will you call...   \n",
       "3793  Meanwhile In A Supermarket in Israel -- People...   \n",
       "3794  Did you panic buy a lot of non-perishable item...   \n",
       "3796  Gov need to do somethings instead of biar je r...   \n",
       "3797  I and @ForestandPaper members are committed to...   \n",
       "\n",
       "                                            tweet_copy3  Label  \n",
       "1     advice Talk to your neighbours family to excha...      1  \n",
       "2     Coronavirus Australia: Woolworths to give elde...      1  \n",
       "3     My food stock is not the only one which is emp...      1  \n",
       "4     Me, ready to go at supermarket during the #COV...      0  \n",
       "5     As news of the regionÂs first confirmed COVID...      1  \n",
       "...                                                 ...    ...  \n",
       "3792  @RicePolitics @MDCounties Craig, will you call...      0  \n",
       "3793  Meanwhile In A Supermarket in Israel -- People...      1  \n",
       "3794  Did you panic buy a lot of non-perishable item...      0  \n",
       "3796  Gov need to do somethings instead of biar je r...      0  \n",
       "3797  I and @ForestandPaper members are committed to...      1  \n",
       "\n",
       "[36623 rows x 8 columns]"
      ]
     },
     "execution_count": 14,
     "metadata": {},
     "output_type": "execute_result"
    }
   ],
   "source": [
    "labels = np.where(corona1['Sentiment'].isin(['Positive', 'Extremely Positive']), 1, 0) # Labeling the sentiment to numeric value\n",
    "corona1['Label'] = labels\n",
    "corona1"
   ]
  },
  {
   "cell_type": "code",
   "execution_count": 15,
   "metadata": {},
   "outputs": [
    {
     "data": {
      "text/plain": [
       "Label\n",
       "1    19592\n",
       "0    17031\n",
       "Name: count, dtype: int64"
      ]
     },
     "execution_count": 15,
     "metadata": {},
     "output_type": "execute_result"
    }
   ],
   "source": [
    "corona1['Label'].value_counts()"
   ]
  },
  {
   "cell_type": "code",
   "execution_count": 16,
   "metadata": {},
   "outputs": [],
   "source": [
    "# from nltk.tokenize import TweetTokenizer\n",
    "# tokenizer = TweetTokenizer(preserve_case=False, strip_handles=True,\n",
    "#                                reduce_len=True)\n",
    "# corona1['tweet_copy2'] = corona1['tweet_copy1'].apply(lambda x: tokenizer.tokenize(x))\n",
    "# corona1.drop('tokenized_tweet',axis=1,inplace=True)\n"
   ]
  },
  {
   "cell_type": "code",
   "execution_count": 17,
   "metadata": {},
   "outputs": [
    {
     "data": {
      "text/html": [
       "<div>\n",
       "<style scoped>\n",
       "    .dataframe tbody tr th:only-of-type {\n",
       "        vertical-align: middle;\n",
       "    }\n",
       "\n",
       "    .dataframe tbody tr th {\n",
       "        vertical-align: top;\n",
       "    }\n",
       "\n",
       "    .dataframe thead th {\n",
       "        text-align: right;\n",
       "    }\n",
       "</style>\n",
       "<table border=\"1\" class=\"dataframe\">\n",
       "  <thead>\n",
       "    <tr style=\"text-align: right;\">\n",
       "      <th></th>\n",
       "      <th>UserName</th>\n",
       "      <th>ScreenName</th>\n",
       "      <th>OriginalTweet</th>\n",
       "      <th>Sentiment</th>\n",
       "      <th>tweet_copy2</th>\n",
       "      <th>tweet_copy1</th>\n",
       "      <th>tweet_copy3</th>\n",
       "      <th>Label</th>\n",
       "    </tr>\n",
       "  </thead>\n",
       "  <tbody>\n",
       "    <tr>\n",
       "      <th>1</th>\n",
       "      <td>3800</td>\n",
       "      <td>48752</td>\n",
       "      <td>advice Talk to your neighbours family to excha...</td>\n",
       "      <td>Positive</td>\n",
       "      <td>advice Talk to your neighbours family to excha...</td>\n",
       "      <td>advice Talk to your neighbours family to excha...</td>\n",
       "      <td>advice Talk to your neighbours family to excha...</td>\n",
       "      <td>1</td>\n",
       "    </tr>\n",
       "    <tr>\n",
       "      <th>2</th>\n",
       "      <td>3801</td>\n",
       "      <td>48753</td>\n",
       "      <td>Coronavirus Australia: Woolworths to give elde...</td>\n",
       "      <td>Positive</td>\n",
       "      <td>Coronavirus Australia: Woolworths to give elde...</td>\n",
       "      <td>Coronavirus Australia: Woolworths to give elde...</td>\n",
       "      <td>Coronavirus Australia: Woolworths to give elde...</td>\n",
       "      <td>1</td>\n",
       "    </tr>\n",
       "    <tr>\n",
       "      <th>3</th>\n",
       "      <td>3802</td>\n",
       "      <td>48754</td>\n",
       "      <td>My food stock is not the only one which is emp...</td>\n",
       "      <td>Positive</td>\n",
       "      <td>My food stock is not the only one which is emp...</td>\n",
       "      <td>My food stock is not the only one which is emp...</td>\n",
       "      <td>My food stock is not the only one which is emp...</td>\n",
       "      <td>1</td>\n",
       "    </tr>\n",
       "    <tr>\n",
       "      <th>4</th>\n",
       "      <td>3803</td>\n",
       "      <td>48755</td>\n",
       "      <td>Me, ready to go at supermarket during the #COV...</td>\n",
       "      <td>Extremely Negative</td>\n",
       "      <td>Me, ready to go at supermarket during the #COV...</td>\n",
       "      <td>Me, ready to go at supermarket during the #COV...</td>\n",
       "      <td>Me, ready to go at supermarket during the #COV...</td>\n",
       "      <td>0</td>\n",
       "    </tr>\n",
       "    <tr>\n",
       "      <th>5</th>\n",
       "      <td>3804</td>\n",
       "      <td>48756</td>\n",
       "      <td>As news of the regionÂs first confirmed COVID...</td>\n",
       "      <td>Positive</td>\n",
       "      <td>As news of the regionÂs first confirmed COVID...</td>\n",
       "      <td>As news of the regionÂs first confirmed COVID...</td>\n",
       "      <td>As news of the regionÂs first confirmed COVID...</td>\n",
       "      <td>1</td>\n",
       "    </tr>\n",
       "    <tr>\n",
       "      <th>...</th>\n",
       "      <td>...</td>\n",
       "      <td>...</td>\n",
       "      <td>...</td>\n",
       "      <td>...</td>\n",
       "      <td>...</td>\n",
       "      <td>...</td>\n",
       "      <td>...</td>\n",
       "      <td>...</td>\n",
       "    </tr>\n",
       "    <tr>\n",
       "      <th>3792</th>\n",
       "      <td>3793</td>\n",
       "      <td>48745</td>\n",
       "      <td>@RicePolitics @MDCounties Craig, will you call...</td>\n",
       "      <td>Negative</td>\n",
       "      <td>@RicePolitics @MDCounties Craig, will you call...</td>\n",
       "      <td>@RicePolitics @MDCounties Craig, will you call...</td>\n",
       "      <td>@RicePolitics @MDCounties Craig, will you call...</td>\n",
       "      <td>0</td>\n",
       "    </tr>\n",
       "    <tr>\n",
       "      <th>3793</th>\n",
       "      <td>3794</td>\n",
       "      <td>48746</td>\n",
       "      <td>Meanwhile In A Supermarket in Israel -- People...</td>\n",
       "      <td>Positive</td>\n",
       "      <td>Meanwhile In A Supermarket in Israel -- People...</td>\n",
       "      <td>Meanwhile In A Supermarket in Israel -- People...</td>\n",
       "      <td>Meanwhile In A Supermarket in Israel -- People...</td>\n",
       "      <td>1</td>\n",
       "    </tr>\n",
       "    <tr>\n",
       "      <th>3794</th>\n",
       "      <td>3795</td>\n",
       "      <td>48747</td>\n",
       "      <td>Did you panic buy a lot of non-perishable item...</td>\n",
       "      <td>Negative</td>\n",
       "      <td>Did you panic buy a lot of non-perishable item...</td>\n",
       "      <td>Did you panic buy a lot of non-perishable item...</td>\n",
       "      <td>Did you panic buy a lot of non-perishable item...</td>\n",
       "      <td>0</td>\n",
       "    </tr>\n",
       "    <tr>\n",
       "      <th>3796</th>\n",
       "      <td>3797</td>\n",
       "      <td>48749</td>\n",
       "      <td>Gov need to do somethings instead of biar je r...</td>\n",
       "      <td>Extremely Negative</td>\n",
       "      <td>Gov need to do somethings instead of biar je r...</td>\n",
       "      <td>Gov need to do somethings instead of biar je r...</td>\n",
       "      <td>Gov need to do somethings instead of biar je r...</td>\n",
       "      <td>0</td>\n",
       "    </tr>\n",
       "    <tr>\n",
       "      <th>3797</th>\n",
       "      <td>3798</td>\n",
       "      <td>48750</td>\n",
       "      <td>I and @ForestandPaper members are committed to...</td>\n",
       "      <td>Extremely Positive</td>\n",
       "      <td>I and @ForestandPaper members are committed to...</td>\n",
       "      <td>I and @ForestandPaper members are committed to...</td>\n",
       "      <td>I and @ForestandPaper members are committed to...</td>\n",
       "      <td>1</td>\n",
       "    </tr>\n",
       "  </tbody>\n",
       "</table>\n",
       "<p>36623 rows × 8 columns</p>\n",
       "</div>"
      ],
      "text/plain": [
       "      UserName  ScreenName                                      OriginalTweet  \\\n",
       "1         3800       48752  advice Talk to your neighbours family to excha...   \n",
       "2         3801       48753  Coronavirus Australia: Woolworths to give elde...   \n",
       "3         3802       48754  My food stock is not the only one which is emp...   \n",
       "4         3803       48755  Me, ready to go at supermarket during the #COV...   \n",
       "5         3804       48756  As news of the regionÂs first confirmed COVID...   \n",
       "...        ...         ...                                                ...   \n",
       "3792      3793       48745  @RicePolitics @MDCounties Craig, will you call...   \n",
       "3793      3794       48746  Meanwhile In A Supermarket in Israel -- People...   \n",
       "3794      3795       48747  Did you panic buy a lot of non-perishable item...   \n",
       "3796      3797       48749  Gov need to do somethings instead of biar je r...   \n",
       "3797      3798       48750  I and @ForestandPaper members are committed to...   \n",
       "\n",
       "               Sentiment                                        tweet_copy2  \\\n",
       "1               Positive  advice Talk to your neighbours family to excha...   \n",
       "2               Positive  Coronavirus Australia: Woolworths to give elde...   \n",
       "3               Positive  My food stock is not the only one which is emp...   \n",
       "4     Extremely Negative  Me, ready to go at supermarket during the #COV...   \n",
       "5               Positive  As news of the regionÂs first confirmed COVID...   \n",
       "...                  ...                                                ...   \n",
       "3792            Negative  @RicePolitics @MDCounties Craig, will you call...   \n",
       "3793            Positive  Meanwhile In A Supermarket in Israel -- People...   \n",
       "3794            Negative  Did you panic buy a lot of non-perishable item...   \n",
       "3796  Extremely Negative  Gov need to do somethings instead of biar je r...   \n",
       "3797  Extremely Positive  I and @ForestandPaper members are committed to...   \n",
       "\n",
       "                                            tweet_copy1  \\\n",
       "1     advice Talk to your neighbours family to excha...   \n",
       "2     Coronavirus Australia: Woolworths to give elde...   \n",
       "3     My food stock is not the only one which is emp...   \n",
       "4     Me, ready to go at supermarket during the #COV...   \n",
       "5     As news of the regionÂs first confirmed COVID...   \n",
       "...                                                 ...   \n",
       "3792  @RicePolitics @MDCounties Craig, will you call...   \n",
       "3793  Meanwhile In A Supermarket in Israel -- People...   \n",
       "3794  Did you panic buy a lot of non-perishable item...   \n",
       "3796  Gov need to do somethings instead of biar je r...   \n",
       "3797  I and @ForestandPaper members are committed to...   \n",
       "\n",
       "                                            tweet_copy3  Label  \n",
       "1     advice Talk to your neighbours family to excha...      1  \n",
       "2     Coronavirus Australia: Woolworths to give elde...      1  \n",
       "3     My food stock is not the only one which is emp...      1  \n",
       "4     Me, ready to go at supermarket during the #COV...      0  \n",
       "5     As news of the regionÂs first confirmed COVID...      1  \n",
       "...                                                 ...    ...  \n",
       "3792  @RicePolitics @MDCounties Craig, will you call...      0  \n",
       "3793  Meanwhile In A Supermarket in Israel -- People...      1  \n",
       "3794  Did you panic buy a lot of non-perishable item...      0  \n",
       "3796  Gov need to do somethings instead of biar je r...      0  \n",
       "3797  I and @ForestandPaper members are committed to...      1  \n",
       "\n",
       "[36623 rows x 8 columns]"
      ]
     },
     "execution_count": 17,
     "metadata": {},
     "output_type": "execute_result"
    }
   ],
   "source": [
    "corona1"
   ]
  },
  {
   "cell_type": "code",
   "execution_count": 18,
   "metadata": {},
   "outputs": [
    {
     "data": {
      "text/plain": [
       "'!\"#$%&\\'()*+,-./:;<=>?@[\\\\]^_`{|}~'"
      ]
     },
     "execution_count": 18,
     "metadata": {},
     "output_type": "execute_result"
    }
   ],
   "source": [
    "import string\n",
    "punct=string.punctuation\n",
    "punct"
   ]
  },
  {
   "cell_type": "code",
   "execution_count": null,
   "metadata": {},
   "outputs": [],
   "source": [
    "## Create formula for remove punctuation\n",
    "def remove_punctuation(text):\n",
    "    text  = \"\".join([char for char in text if char not in punct])\n",
    "    return text"
   ]
  },
  {
   "cell_type": "code",
   "execution_count": null,
   "metadata": {},
   "outputs": [
    {
     "name": "stderr",
     "output_type": "stream",
     "text": [
      "C:\\Users\\manna\\AppData\\Local\\Temp\\ipykernel_824\\273872029.py:1: SettingWithCopyWarning: \n",
      "A value is trying to be set on a copy of a slice from a DataFrame.\n",
      "Try using .loc[row_indexer,col_indexer] = value instead\n",
      "\n",
      "See the caveats in the documentation: https://pandas.pydata.org/pandas-docs/stable/user_guide/indexing.html#returning-a-view-versus-a-copy\n",
      "  corona1['tweet_copy1']=corona1['tweet_copy1'].apply(lambda x:remove_punctuation(x))\n",
      "C:\\Users\\manna\\AppData\\Local\\Temp\\ipykernel_824\\273872029.py:2: SettingWithCopyWarning: \n",
      "A value is trying to be set on a copy of a slice from a DataFrame.\n",
      "Try using .loc[row_indexer,col_indexer] = value instead\n",
      "\n",
      "See the caveats in the documentation: https://pandas.pydata.org/pandas-docs/stable/user_guide/indexing.html#returning-a-view-versus-a-copy\n",
      "  corona1['tweet_copy2']=corona1['tweet_copy2'].apply(lambda x:remove_punctuation(x))\n",
      "C:\\Users\\manna\\AppData\\Local\\Temp\\ipykernel_824\\273872029.py:3: SettingWithCopyWarning: \n",
      "A value is trying to be set on a copy of a slice from a DataFrame.\n",
      "Try using .loc[row_indexer,col_indexer] = value instead\n",
      "\n",
      "See the caveats in the documentation: https://pandas.pydata.org/pandas-docs/stable/user_guide/indexing.html#returning-a-view-versus-a-copy\n",
      "  corona1['tweet_copy3']=corona1['tweet_copy3'].apply(lambda x:remove_punctuation(x))\n"
     ]
    }
   ],
   "source": [
    "## formula applied for remove punctuation\n",
    "corona1['tweet_copy1']=corona1['tweet_copy1'].apply(lambda x:remove_punctuation(x))\n",
    "corona1['tweet_copy2']=corona1['tweet_copy2'].apply(lambda x:remove_punctuation(x))\n",
    "corona1['tweet_copy3']=corona1['tweet_copy3'].apply(lambda x:remove_punctuation(x))"
   ]
  },
  {
   "cell_type": "code",
   "execution_count": null,
   "metadata": {},
   "outputs": [
    {
     "name": "stderr",
     "output_type": "stream",
     "text": [
      "C:\\Users\\manna\\AppData\\Local\\Temp\\ipykernel_824\\3208934453.py:1: SettingWithCopyWarning: \n",
      "A value is trying to be set on a copy of a slice from a DataFrame.\n",
      "Try using .loc[row_indexer,col_indexer] = value instead\n",
      "\n",
      "See the caveats in the documentation: https://pandas.pydata.org/pandas-docs/stable/user_guide/indexing.html#returning-a-view-versus-a-copy\n",
      "  corona1['tweet_copy1']=corona1['tweet_copy1'].apply(lambda x:x.lower())\n",
      "C:\\Users\\manna\\AppData\\Local\\Temp\\ipykernel_824\\3208934453.py:2: SettingWithCopyWarning: \n",
      "A value is trying to be set on a copy of a slice from a DataFrame.\n",
      "Try using .loc[row_indexer,col_indexer] = value instead\n",
      "\n",
      "See the caveats in the documentation: https://pandas.pydata.org/pandas-docs/stable/user_guide/indexing.html#returning-a-view-versus-a-copy\n",
      "  corona1['tweet_copy2']=corona1['tweet_copy2'].apply(lambda x:x.lower())\n",
      "C:\\Users\\manna\\AppData\\Local\\Temp\\ipykernel_824\\3208934453.py:3: SettingWithCopyWarning: \n",
      "A value is trying to be set on a copy of a slice from a DataFrame.\n",
      "Try using .loc[row_indexer,col_indexer] = value instead\n",
      "\n",
      "See the caveats in the documentation: https://pandas.pydata.org/pandas-docs/stable/user_guide/indexing.html#returning-a-view-versus-a-copy\n",
      "  corona1['tweet_copy3']=corona1['tweet_copy3'].apply(lambda x:x.lower())\n"
     ]
    }
   ],
   "source": [
    "## convert to lower case\n",
    "corona1['tweet_copy1']=corona1['tweet_copy1'].apply(lambda x:x.lower())\n",
    "corona1['tweet_copy2']=corona1['tweet_copy2'].apply(lambda x:x.lower())\n",
    "corona1['tweet_copy3']=corona1['tweet_copy3'].apply(lambda x:x.lower())"
   ]
  },
  {
   "cell_type": "code",
   "execution_count": null,
   "metadata": {},
   "outputs": [
    {
     "name": "stderr",
     "output_type": "stream",
     "text": [
      "C:\\Users\\manna\\AppData\\Local\\Temp\\ipykernel_824\\3513714957.py:6: SettingWithCopyWarning: \n",
      "A value is trying to be set on a copy of a slice from a DataFrame.\n",
      "Try using .loc[row_indexer,col_indexer] = value instead\n",
      "\n",
      "See the caveats in the documentation: https://pandas.pydata.org/pandas-docs/stable/user_guide/indexing.html#returning-a-view-versus-a-copy\n",
      "  corona1['tweet_copy1'] = corona1['tweet_copy1'].apply(lambda x: ' '.join([word for word in x.split() if word not in (stpwrds)]))\n",
      "C:\\Users\\manna\\AppData\\Local\\Temp\\ipykernel_824\\3513714957.py:7: SettingWithCopyWarning: \n",
      "A value is trying to be set on a copy of a slice from a DataFrame.\n",
      "Try using .loc[row_indexer,col_indexer] = value instead\n",
      "\n",
      "See the caveats in the documentation: https://pandas.pydata.org/pandas-docs/stable/user_guide/indexing.html#returning-a-view-versus-a-copy\n",
      "  corona1['tweet_copy2'] = corona1['tweet_copy2'].apply(lambda x: ' '.join([word for word in x.split() if word not in (stpwrds)]))\n"
     ]
    },
    {
     "name": "stdout",
     "output_type": "stream",
     "text": [
      "      UserName  ScreenName                                      OriginalTweet  \\\n",
      "1         3800       48752  advice Talk to your neighbours family to excha...   \n",
      "2         3801       48753  Coronavirus Australia: Woolworths to give elde...   \n",
      "3         3802       48754  My food stock is not the only one which is emp...   \n",
      "4         3803       48755  Me, ready to go at supermarket during the #COV...   \n",
      "5         3804       48756  As news of the regionÂs first confirmed COVID...   \n",
      "...        ...         ...                                                ...   \n",
      "3792      3793       48745  @RicePolitics @MDCounties Craig, will you call...   \n",
      "3793      3794       48746  Meanwhile In A Supermarket in Israel -- People...   \n",
      "3794      3795       48747  Did you panic buy a lot of non-perishable item...   \n",
      "3796      3797       48749  Gov need to do somethings instead of biar je r...   \n",
      "3797      3798       48750  I and @ForestandPaper members are committed to...   \n",
      "\n",
      "               Sentiment                                        tweet_copy2  \\\n",
      "1               Positive  advice talk neighbours family exchange phone n...   \n",
      "2               Positive  coronavirus australia woolworths give elderly ...   \n",
      "3               Positive  food stock one empty please dont panic enough ...   \n",
      "4     Extremely Negative  ready go supermarket covid19 outbreak im paran...   \n",
      "5               Positive  news regionâs first confirmed covid19 case ca...   \n",
      "...                  ...                                                ...   \n",
      "3792            Negative  ricepolitics mdcounties craig call general ass...   \n",
      "3793            Positive  meanwhile supermarket israel people dance sing...   \n",
      "3794            Negative  panic buy lot nonperishable items echo needs f...   \n",
      "3796  Extremely Negative  gov need somethings instead biar je rakyat ass...   \n",
      "3797  Extremely Positive  forestandpaper members committed safety employ...   \n",
      "\n",
      "                                            tweet_copy1  \\\n",
      "1     advice talk neighbours family exchange phone n...   \n",
      "2     coronavirus australia woolworths give elderly ...   \n",
      "3     food stock one empty please dont panic enough ...   \n",
      "4     ready go supermarket covid19 outbreak im paran...   \n",
      "5     news regionâs first confirmed covid19 case ca...   \n",
      "...                                                 ...   \n",
      "3792  ricepolitics mdcounties craig call general ass...   \n",
      "3793  meanwhile supermarket israel people dance sing...   \n",
      "3794  panic buy lot nonperishable items echo needs f...   \n",
      "3796  gov need somethings instead biar je rakyat ass...   \n",
      "3797  forestandpaper members committed safety employ...   \n",
      "\n",
      "                                            tweet_copy3  Label  \n",
      "1     advice talk neighbours family exchange phone n...      1  \n",
      "2     coronavirus australia woolworths give elderly ...      1  \n",
      "3     food stock one empty please dont panic enough ...      1  \n",
      "4     ready go supermarket covid19 outbreak im paran...      0  \n",
      "5     news regionâs first confirmed covid19 case ca...      1  \n",
      "...                                                 ...    ...  \n",
      "3792  ricepolitics mdcounties craig call general ass...      0  \n",
      "3793  meanwhile supermarket israel people dance sing...      1  \n",
      "3794  panic buy lot nonperishable items echo needs f...      0  \n",
      "3796  gov need somethings instead biar je rakyat ass...      0  \n",
      "3797  forestandpaper members committed safety employ...      1  \n",
      "\n",
      "[36623 rows x 8 columns]\n"
     ]
    },
    {
     "name": "stderr",
     "output_type": "stream",
     "text": [
      "C:\\Users\\manna\\AppData\\Local\\Temp\\ipykernel_824\\3513714957.py:8: SettingWithCopyWarning: \n",
      "A value is trying to be set on a copy of a slice from a DataFrame.\n",
      "Try using .loc[row_indexer,col_indexer] = value instead\n",
      "\n",
      "See the caveats in the documentation: https://pandas.pydata.org/pandas-docs/stable/user_guide/indexing.html#returning-a-view-versus-a-copy\n",
      "  corona1['tweet_copy3'] = corona1['tweet_copy3'].apply(lambda x: ' '.join([word for word in x.split() if word not in (stpwrds)]))\n"
     ]
    }
   ],
   "source": [
    "## remove stopwords\n",
    "import nltk\n",
    "\n",
    "from nltk.corpus import stopwords\n",
    "stpwrds = stopwords.words('english')\n",
    "\n",
    "corona1['tweet_copy1'] = corona1['tweet_copy1'].apply(lambda x: ' '.join([word for word in x.split() if word not in (stpwrds)]))\n",
    "corona1['tweet_copy2'] = corona1['tweet_copy2'].apply(lambda x: ' '.join([word for word in x.split() if word not in (stpwrds)]))\n",
    "corona1['tweet_copy3'] = corona1['tweet_copy3'].apply(lambda x: ' '.join([word for word in x.split() if word not in (stpwrds)]))\n",
    "print(corona1)"
   ]
  },
  {
   "cell_type": "code",
   "execution_count": 23,
   "metadata": {},
   "outputs": [],
   "source": [
    "def build_freqs(tweet, ys):\n",
    "    \"\"\"Build frequencies.\n",
    "    Input:\n",
    "        tweets: a list of tweets\n",
    "        ys: an m x 1 array with the sentiment label of each tweet\n",
    "            (either 0 or 1)\n",
    "    Output:\n",
    "        freqs: a dictionary mapping each (word, sentiment) pair to its\n",
    "        frequency\n",
    "    \"\"\"\n",
    "    # Convert np array to list since zip needs an iterable.\n",
    "    # The squeeze is necessary or the list ends up with one element.\n",
    "    # Also note that this is just a NOP if ys is already a list.\n",
    "    yslist = np.squeeze(ys).tolist()\n",
    "\n",
    "    # Start with an empty dictionary and populate it by looping over all tweets\n",
    "    # and over all processed words in each tweet.\n",
    "    freqs = {}\n",
    "    for y, tweet in zip(yslist, tweet):\n",
    "        for word in tweet:\n",
    "            pair = (word, y)\n",
    "            if pair in freqs:\n",
    "                freqs[pair] += 1\n",
    "            else:\n",
    "                freqs[pair] = 1    \n",
    "    return freqs\n"
   ]
  },
  {
   "cell_type": "code",
   "execution_count": 24,
   "metadata": {},
   "outputs": [
    {
     "name": "stdout",
     "output_type": "stream",
     "text": [
      "{('a', 1): 375605, ('d', 1): 194887, ('v', 1): 101886, ('i', 1): 378152, ('c', 1): 256698, ('e', 1): 570603, (' ', 1): 762859, ('t', 1): 384564, ('l', 1): 223716, ('k', 1): 84016, ('n', 1): 333994, ('g', 1): 137061, ('h', 1): 149086, ('b', 1): 62824, ('o', 1): 410391, ('u', 1): 161372, ('r', 1): 369620, ('s', 1): 412268, ('f', 1): 77718, ('m', 1): 141682, ('y', 1): 97355, ('x', 1): 16132, ('p', 1): 201077, ('q', 1): 12474, ('w', 1): 66217, ('1', 1): 34052, ('9', 1): 29332, ('8', 1): 5634, ('z', 1): 17736, ('0', 1): 16318, ('5', 1): 7084, ('2', 1): 12788, ('j', 1): 13804, ('r', 0): 312427, ('e', 0): 463086, ('a', 0): 311166, ('d', 0): 173788, ('y', 0): 82336, (' ', 0): 653407, ('g', 0): 121870, ('o', 0): 353761, ('s', 0): 352999, ('u', 0): 145318, ('p', 0): 172131, ('m', 0): 120448, ('k', 0): 68610, ('t', 0): 310683, ('c', 0): 226995, ('v', 0): 84781, ('i', 0): 332087, ('1', 0): 28986, ('9', 0): 25066, ('b', 0): 56980, ('n', 0): 283689, ('f', 0): 65321, ('l', 0): 190082, ('h', 0): 114128, ('z', 0): 11390, ('q', 0): 9618, ('7', 0): 4450, ('2', 0): 10384, ('â', 1): 11924, ('\\x92', 1): 7196, ('7', 1): 5622, ('6', 1): 5614, ('w', 0): 54706, ('\\x93', 1): 1094, ('\\x94', 1): 1028, ('3', 1): 7130, ('0', 0): 13302, ('4', 1): 6664, ('5', 0): 5650, ('x', 0): 13812, ('â', 0): 11698, ('\\x92', 0): 7198, ('6', 0): 4314, ('8', 0): 4260, ('j', 0): 11107, ('3', 0): 5578, ('4', 0): 5068, ('\\x97', 0): 360, ('\\x95', 0): 182, ('£', 1): 212, ('\\x91', 1): 258, ('\\x93', 0): 1046, ('\\x94', 0): 1012, ('ã', 1): 168, ('¶', 1): 4, ('\\x97', 1): 474, ('«', 1): 18, ('»', 1): 20, ('\\x91', 0): 372, ('\\x96', 0): 302, ('\\x96', 1): 216, ('\\x80', 1): 66, ('£', 0): 230, ('©', 1): 52, ('¼', 1): 24, ('¤', 1): 10, ('ã', 0): 160, ('±', 0): 10, ('\\x95', 1): 242, ('¢', 1): 6, ('¤', 0): 28, ('¡', 1): 8, ('\\x80', 0): 44, ('½', 1): 2, ('\\xad', 0): 20, ('«', 0): 12, ('©', 0): 32, ('»', 0): 12, ('¨', 0): 4, ('·', 1): 70, ('³', 0): 4, ('²', 0): 4, ('¡', 0): 10, ('°', 1): 6, ('¢', 0): 8, ('³', 1): 8, ('\\x99', 0): 2, ('¸', 1): 2, ('\\x9f', 0): 4, ('²', 1): 2, ('±', 1): 10, ('º', 1): 4, ('¼', 0): 22, ('§', 0): 4, ('¶', 0): 8, ('¨', 1): 6, ('´', 1): 4, ('\\xad', 1): 22, ('°', 0): 2, ('¹', 1): 4, ('\\x98', 0): 6, ('¥', 1): 2, ('\\x99', 1): 6, ('¯', 1): 2, ('\\x9a', 1): 2, ('¦', 1): 2, ('\\x84', 1): 2, ('®', 0): 4, ('\\x87', 0): 2, ('®', 1): 4, ('\\x89', 1): 2, ('´', 0): 4, ('¾', 0): 2, ('º', 0): 2}\n",
      "type(freqs) = <class 'dict'>\n"
     ]
    }
   ],
   "source": [
    "freqs = build_freqs(corona1['tweet_copy1'], labels)\n",
    "print(freqs)\n",
    "print(f'type(freqs) = {type(freqs)}')"
   ]
  },
  {
   "cell_type": "code",
   "execution_count": 25,
   "metadata": {},
   "outputs": [
    {
     "data": {
      "text/plain": [
       "1       advice talk neighbours family exchange phone n...\n",
       "2       coronavirus australia woolworths give elderly ...\n",
       "3       food stock one empty please dont panic enough ...\n",
       "4       ready go supermarket covid19 outbreak im paran...\n",
       "5       news regionâs first confirmed covid19 case ca...\n",
       "                              ...                        \n",
       "3792    ricepolitics mdcounties craig call general ass...\n",
       "3793    meanwhile supermarket israel people dance sing...\n",
       "3794    panic buy lot nonperishable items echo needs f...\n",
       "3796    gov need somethings instead biar je rakyat ass...\n",
       "3797    forestandpaper members committed safety employ...\n",
       "Name: tweet_copy1, Length: 36623, dtype: object"
      ]
     },
     "execution_count": 25,
     "metadata": {},
     "output_type": "execute_result"
    }
   ],
   "source": [
    "corona1['tweet_copy1']"
   ]
  },
  {
   "cell_type": "code",
   "execution_count": 26,
   "metadata": {},
   "outputs": [],
   "source": [
    "from nltk.stem import PorterStemmer # Stemming\n",
    "\n",
    "ps = PorterStemmer()"
   ]
  },
  {
   "cell_type": "code",
   "execution_count": 27,
   "metadata": {},
   "outputs": [
    {
     "name": "stderr",
     "output_type": "stream",
     "text": [
      "C:\\Users\\manna\\AppData\\Local\\Temp\\ipykernel_824\\1160937321.py:5: SettingWithCopyWarning: \n",
      "A value is trying to be set on a copy of a slice from a DataFrame.\n",
      "Try using .loc[row_indexer,col_indexer] = value instead\n",
      "\n",
      "See the caveats in the documentation: https://pandas.pydata.org/pandas-docs/stable/user_guide/indexing.html#returning-a-view-versus-a-copy\n",
      "  corona1['tweet_copy1'] = corona1['tweet_copy1'].apply(lambda x: stemmer(x))\n"
     ]
    },
    {
     "data": {
      "text/html": [
       "<div>\n",
       "<style scoped>\n",
       "    .dataframe tbody tr th:only-of-type {\n",
       "        vertical-align: middle;\n",
       "    }\n",
       "\n",
       "    .dataframe tbody tr th {\n",
       "        vertical-align: top;\n",
       "    }\n",
       "\n",
       "    .dataframe thead th {\n",
       "        text-align: right;\n",
       "    }\n",
       "</style>\n",
       "<table border=\"1\" class=\"dataframe\">\n",
       "  <thead>\n",
       "    <tr style=\"text-align: right;\">\n",
       "      <th></th>\n",
       "      <th>UserName</th>\n",
       "      <th>ScreenName</th>\n",
       "      <th>OriginalTweet</th>\n",
       "      <th>Sentiment</th>\n",
       "      <th>tweet_copy2</th>\n",
       "      <th>tweet_copy1</th>\n",
       "      <th>tweet_copy3</th>\n",
       "      <th>Label</th>\n",
       "    </tr>\n",
       "  </thead>\n",
       "  <tbody>\n",
       "    <tr>\n",
       "      <th>1</th>\n",
       "      <td>3800</td>\n",
       "      <td>48752</td>\n",
       "      <td>advice Talk to your neighbours family to excha...</td>\n",
       "      <td>Positive</td>\n",
       "      <td>advice talk neighbours family exchange phone n...</td>\n",
       "      <td>advic talk neighbour famili exchang phone numb...</td>\n",
       "      <td>advice talk neighbours family exchange phone n...</td>\n",
       "      <td>1</td>\n",
       "    </tr>\n",
       "    <tr>\n",
       "      <th>2</th>\n",
       "      <td>3801</td>\n",
       "      <td>48753</td>\n",
       "      <td>Coronavirus Australia: Woolworths to give elde...</td>\n",
       "      <td>Positive</td>\n",
       "      <td>coronavirus australia woolworths give elderly ...</td>\n",
       "      <td>coronaviru australia woolworth give elderli di...</td>\n",
       "      <td>coronavirus australia woolworths give elderly ...</td>\n",
       "      <td>1</td>\n",
       "    </tr>\n",
       "    <tr>\n",
       "      <th>3</th>\n",
       "      <td>3802</td>\n",
       "      <td>48754</td>\n",
       "      <td>My food stock is not the only one which is emp...</td>\n",
       "      <td>Positive</td>\n",
       "      <td>food stock one empty please dont panic enough ...</td>\n",
       "      <td>food stock one empti pleas dont panic enough f...</td>\n",
       "      <td>food stock one empty please dont panic enough ...</td>\n",
       "      <td>1</td>\n",
       "    </tr>\n",
       "    <tr>\n",
       "      <th>4</th>\n",
       "      <td>3803</td>\n",
       "      <td>48755</td>\n",
       "      <td>Me, ready to go at supermarket during the #COV...</td>\n",
       "      <td>Extremely Negative</td>\n",
       "      <td>ready go supermarket covid19 outbreak im paran...</td>\n",
       "      <td>readi go supermarket covid19 outbreak im paran...</td>\n",
       "      <td>ready go supermarket covid19 outbreak im paran...</td>\n",
       "      <td>0</td>\n",
       "    </tr>\n",
       "    <tr>\n",
       "      <th>5</th>\n",
       "      <td>3804</td>\n",
       "      <td>48756</td>\n",
       "      <td>As news of the regionÂs first confirmed COVID...</td>\n",
       "      <td>Positive</td>\n",
       "      <td>news regionâs first confirmed covid19 case ca...</td>\n",
       "      <td>news regionâ first confirm covid19 case came ...</td>\n",
       "      <td>news regionâs first confirmed covid19 case ca...</td>\n",
       "      <td>1</td>\n",
       "    </tr>\n",
       "  </tbody>\n",
       "</table>\n",
       "</div>"
      ],
      "text/plain": [
       "   UserName  ScreenName                                      OriginalTweet  \\\n",
       "1      3800       48752  advice Talk to your neighbours family to excha...   \n",
       "2      3801       48753  Coronavirus Australia: Woolworths to give elde...   \n",
       "3      3802       48754  My food stock is not the only one which is emp...   \n",
       "4      3803       48755  Me, ready to go at supermarket during the #COV...   \n",
       "5      3804       48756  As news of the regionÂs first confirmed COVID...   \n",
       "\n",
       "            Sentiment                                        tweet_copy2  \\\n",
       "1            Positive  advice talk neighbours family exchange phone n...   \n",
       "2            Positive  coronavirus australia woolworths give elderly ...   \n",
       "3            Positive  food stock one empty please dont panic enough ...   \n",
       "4  Extremely Negative  ready go supermarket covid19 outbreak im paran...   \n",
       "5            Positive  news regionâs first confirmed covid19 case ca...   \n",
       "\n",
       "                                         tweet_copy1  \\\n",
       "1  advic talk neighbour famili exchang phone numb...   \n",
       "2  coronaviru australia woolworth give elderli di...   \n",
       "3  food stock one empti pleas dont panic enough f...   \n",
       "4  readi go supermarket covid19 outbreak im paran...   \n",
       "5  news regionâ first confirm covid19 case came ...   \n",
       "\n",
       "                                         tweet_copy3  Label  \n",
       "1  advice talk neighbours family exchange phone n...      1  \n",
       "2  coronavirus australia woolworths give elderly ...      1  \n",
       "3  food stock one empty please dont panic enough ...      1  \n",
       "4  ready go supermarket covid19 outbreak im paran...      0  \n",
       "5  news regionâs first confirmed covid19 case ca...      1  "
      ]
     },
     "execution_count": 27,
     "metadata": {},
     "output_type": "execute_result"
    }
   ],
   "source": [
    "def stemmer(text):## defining a function to apply stemming\n",
    "    text = ' '.join([ps.stem(word) for word in text.split()])\n",
    "    return text\n",
    "\n",
    "corona1['tweet_copy1'] = corona1['tweet_copy1'].apply(lambda x: stemmer(x))\n",
    "corona1.head()"
   ]
  },
  {
   "cell_type": "code",
   "execution_count": 28,
   "metadata": {},
   "outputs": [],
   "source": [
    "from sklearn.model_selection import train_test_split\n",
    "from sklearn.feature_extraction.text import TfidfVectorizer\n",
    "from sklearn.metrics import accuracy_score\n",
    "from sklearn.metrics import classification_report\n",
    "\n",
    "from sklearn.naive_bayes import MultinomialNB\n",
    "from sklearn.linear_model import LogisticRegression\n",
    "from sklearn.tree import DecisionTreeClassifier\n",
    "from sklearn.ensemble import RandomForestClassifier\n",
    "\n",
    "X = corona1[\"tweet_copy1\"]\n",
    "y = corona1[\"Label\"]\n",
    "\n",
    "X_train, X_test, y_train, y_test = train_test_split(X, y, test_size=0.2, random_state=1)"
   ]
  },
  {
   "cell_type": "code",
   "execution_count": 29,
   "metadata": {},
   "outputs": [
    {
     "data": {
      "text/plain": [
       "1       advic talk neighbour famili exchang phone numb...\n",
       "2       coronaviru australia woolworth give elderli di...\n",
       "3       food stock one empti pleas dont panic enough f...\n",
       "4       readi go supermarket covid19 outbreak im paran...\n",
       "5       news regionâ first confirm covid19 case came ...\n",
       "                              ...                        \n",
       "3792    ricepolit mdcounti craig call gener assembl en...\n",
       "3793    meanwhil supermarket israel peopl danc sing to...\n",
       "3794    panic buy lot nonperish item echo need food do...\n",
       "3796    gov need someth instead biar je rakyat assum l...\n",
       "3797    forestandpap member commit safeti employe endu...\n",
       "Name: tweet_copy1, Length: 36623, dtype: object"
      ]
     },
     "execution_count": 29,
     "metadata": {},
     "output_type": "execute_result"
    }
   ],
   "source": [
    "X"
   ]
  },
  {
   "cell_type": "code",
   "execution_count": 30,
   "metadata": {},
   "outputs": [
    {
     "data": {
      "text/plain": [
       "1       1\n",
       "2       1\n",
       "3       1\n",
       "4       0\n",
       "5       1\n",
       "       ..\n",
       "3792    0\n",
       "3793    1\n",
       "3794    0\n",
       "3796    0\n",
       "3797    1\n",
       "Name: Label, Length: 36623, dtype: int32"
      ]
     },
     "execution_count": 30,
     "metadata": {},
     "output_type": "execute_result"
    }
   ],
   "source": [
    "y"
   ]
  },
  {
   "cell_type": "code",
   "execution_count": 31,
   "metadata": {},
   "outputs": [
    {
     "data": {
      "text/plain": [
       "(7325,)"
      ]
     },
     "execution_count": 31,
     "metadata": {},
     "output_type": "execute_result"
    }
   ],
   "source": [
    "X_test.shape"
   ]
  },
  {
   "cell_type": "code",
   "execution_count": 32,
   "metadata": {},
   "outputs": [
    {
     "data": {
      "text/html": [
       "<div>\n",
       "<style scoped>\n",
       "    .dataframe tbody tr th:only-of-type {\n",
       "        vertical-align: middle;\n",
       "    }\n",
       "\n",
       "    .dataframe tbody tr th {\n",
       "        vertical-align: top;\n",
       "    }\n",
       "\n",
       "    .dataframe thead th {\n",
       "        text-align: right;\n",
       "    }\n",
       "</style>\n",
       "<table border=\"1\" class=\"dataframe\">\n",
       "  <thead>\n",
       "    <tr style=\"text-align: right;\">\n",
       "      <th></th>\n",
       "      <th>UserName</th>\n",
       "      <th>ScreenName</th>\n",
       "      <th>OriginalTweet</th>\n",
       "      <th>Sentiment</th>\n",
       "      <th>tweet_copy2</th>\n",
       "      <th>tweet_copy1</th>\n",
       "      <th>tweet_copy3</th>\n",
       "      <th>Label</th>\n",
       "    </tr>\n",
       "  </thead>\n",
       "  <tbody>\n",
       "    <tr>\n",
       "      <th>1</th>\n",
       "      <td>3800</td>\n",
       "      <td>48752</td>\n",
       "      <td>advice Talk to your neighbours family to excha...</td>\n",
       "      <td>Positive</td>\n",
       "      <td>advice talk neighbours family exchange phone n...</td>\n",
       "      <td>advic talk neighbour famili exchang phone numb...</td>\n",
       "      <td>advice talk neighbours family exchange phone n...</td>\n",
       "      <td>1</td>\n",
       "    </tr>\n",
       "    <tr>\n",
       "      <th>2</th>\n",
       "      <td>3801</td>\n",
       "      <td>48753</td>\n",
       "      <td>Coronavirus Australia: Woolworths to give elde...</td>\n",
       "      <td>Positive</td>\n",
       "      <td>coronavirus australia woolworths give elderly ...</td>\n",
       "      <td>coronaviru australia woolworth give elderli di...</td>\n",
       "      <td>coronavirus australia woolworths give elderly ...</td>\n",
       "      <td>1</td>\n",
       "    </tr>\n",
       "    <tr>\n",
       "      <th>3</th>\n",
       "      <td>3802</td>\n",
       "      <td>48754</td>\n",
       "      <td>My food stock is not the only one which is emp...</td>\n",
       "      <td>Positive</td>\n",
       "      <td>food stock one empty please dont panic enough ...</td>\n",
       "      <td>food stock one empti pleas dont panic enough f...</td>\n",
       "      <td>food stock one empty please dont panic enough ...</td>\n",
       "      <td>1</td>\n",
       "    </tr>\n",
       "    <tr>\n",
       "      <th>4</th>\n",
       "      <td>3803</td>\n",
       "      <td>48755</td>\n",
       "      <td>Me, ready to go at supermarket during the #COV...</td>\n",
       "      <td>Extremely Negative</td>\n",
       "      <td>ready go supermarket covid19 outbreak im paran...</td>\n",
       "      <td>readi go supermarket covid19 outbreak im paran...</td>\n",
       "      <td>ready go supermarket covid19 outbreak im paran...</td>\n",
       "      <td>0</td>\n",
       "    </tr>\n",
       "    <tr>\n",
       "      <th>5</th>\n",
       "      <td>3804</td>\n",
       "      <td>48756</td>\n",
       "      <td>As news of the regionÂs first confirmed COVID...</td>\n",
       "      <td>Positive</td>\n",
       "      <td>news regionâs first confirmed covid19 case ca...</td>\n",
       "      <td>news regionâ first confirm covid19 case came ...</td>\n",
       "      <td>news regionâs first confirmed covid19 case ca...</td>\n",
       "      <td>1</td>\n",
       "    </tr>\n",
       "  </tbody>\n",
       "</table>\n",
       "</div>"
      ],
      "text/plain": [
       "   UserName  ScreenName                                      OriginalTweet  \\\n",
       "1      3800       48752  advice Talk to your neighbours family to excha...   \n",
       "2      3801       48753  Coronavirus Australia: Woolworths to give elde...   \n",
       "3      3802       48754  My food stock is not the only one which is emp...   \n",
       "4      3803       48755  Me, ready to go at supermarket during the #COV...   \n",
       "5      3804       48756  As news of the regionÂs first confirmed COVID...   \n",
       "\n",
       "            Sentiment                                        tweet_copy2  \\\n",
       "1            Positive  advice talk neighbours family exchange phone n...   \n",
       "2            Positive  coronavirus australia woolworths give elderly ...   \n",
       "3            Positive  food stock one empty please dont panic enough ...   \n",
       "4  Extremely Negative  ready go supermarket covid19 outbreak im paran...   \n",
       "5            Positive  news regionâs first confirmed covid19 case ca...   \n",
       "\n",
       "                                         tweet_copy1  \\\n",
       "1  advic talk neighbour famili exchang phone numb...   \n",
       "2  coronaviru australia woolworth give elderli di...   \n",
       "3  food stock one empti pleas dont panic enough f...   \n",
       "4  readi go supermarket covid19 outbreak im paran...   \n",
       "5  news regionâ first confirm covid19 case came ...   \n",
       "\n",
       "                                         tweet_copy3  Label  \n",
       "1  advice talk neighbours family exchange phone n...      1  \n",
       "2  coronavirus australia woolworths give elderly ...      1  \n",
       "3  food stock one empty please dont panic enough ...      1  \n",
       "4  ready go supermarket covid19 outbreak im paran...      0  \n",
       "5  news regionâs first confirmed covid19 case ca...      1  "
      ]
     },
     "execution_count": 32,
     "metadata": {},
     "output_type": "execute_result"
    }
   ],
   "source": [
    "corona1.head()"
   ]
  },
  {
   "cell_type": "code",
   "execution_count": 33,
   "metadata": {},
   "outputs": [],
   "source": [
    "from sklearn.feature_extraction.text import CountVectorizer\n",
    "\n",
    "cv = CountVectorizer()"
   ]
  },
  {
   "cell_type": "code",
   "execution_count": 34,
   "metadata": {},
   "outputs": [
    {
     "data": {
      "text/plain": [
       "array([1, 1, 1, ..., 0, 0, 1], dtype=int64)"
      ]
     },
     "execution_count": 34,
     "metadata": {},
     "output_type": "execute_result"
    }
   ],
   "source": [
    "from sklearn.preprocessing import LabelEncoder\n",
    "\n",
    "encoder = LabelEncoder()\n",
    "\n",
    "y = encoder.fit_transform(y)\n",
    "\n",
    "y"
   ]
  },
  {
   "cell_type": "code",
   "execution_count": 35,
   "metadata": {},
   "outputs": [
    {
     "name": "stdout",
     "output_type": "stream",
     "text": [
      "389      13 encourag client consum think past current s...\n",
      "2250     panic citi amid partial lockdown govt shut the...\n",
      "3099     scammer take advantag fear surround coronaviru...\n",
      "34380    healthcar worker law enforc offici semitruck d...\n",
      "196      gtmassgovernor announc 10m loan fund administ ...\n",
      "                               ...                        \n",
      "9499     onetwo punch new coronaviru fall oil price thr...\n",
      "39987    surg renew gener work low demand follow closur...\n",
      "6311     httpstcojpplvjmluj execut condo sale launch se...\n",
      "14764    frozen stock bag get pretti full might time ma...\n",
      "40590    proud member staff covid 19 culinari staff ope...\n",
      "Name: tweet_copy1, Length: 29298, dtype: object\n",
      "3960     crude price fall 17year low coronaviru spread ...\n",
      "952      ar covid19 latest asahutchinson food suppli fo...\n",
      "21248    public author consum protect pacp issu resolut...\n",
      "39840    us consum price fell five year march decreas l...\n",
      "107      amid social distanc covid19 crisi starbuck mov...\n",
      "                               ...                        \n",
      "12950    salvat armi food bank say itâ see âdrastic d...\n",
      "26513    websit track effort compani individu go forwar...\n",
      "30754    unelect done job two month ago taken step prot...\n",
      "3989     understand need stay open extraordinari time f...\n",
      "27287    fabricedeprez late april 3 1072 confirm case 2...\n",
      "Name: tweet_copy1, Length: 7325, dtype: object\n"
     ]
    }
   ],
   "source": [
    "print(X_train)\n",
    "print(X_test)"
   ]
  },
  {
   "cell_type": "code",
   "execution_count": 36,
   "metadata": {},
   "outputs": [],
   "source": [
    "tfidf_vectorizer = TfidfVectorizer()\n",
    "X_train_tfidf = tfidf_vectorizer.fit_transform(X_train)\n",
    "X_test_tfidf = tfidf_vectorizer.transform(X_test)"
   ]
  },
  {
   "cell_type": "code",
   "execution_count": 37,
   "metadata": {},
   "outputs": [
    {
     "name": "stdout",
     "output_type": "stream",
     "text": [
      "MultinomialNB: 77.84\n",
      "------------------------------\n",
      "LogisticRegression: 85.30\n",
      "------------------------------\n",
      "DecisionTreeClassifier: 74.38\n",
      "------------------------------\n",
      "RandomForestClassifier: 81.73\n",
      "------------------------------\n"
     ]
    }
   ],
   "source": [
    "models = [\n",
    "    MultinomialNB(),\n",
    "    LogisticRegression(),\n",
    "    DecisionTreeClassifier(),\n",
    "    RandomForestClassifier()\n",
    "]\n",
    "\n",
    "for model in models:\n",
    "    model.fit(X_train_tfidf, y_train)\n",
    "    y_pred = model.predict(X_test_tfidf)\n",
    "    accuracy = accuracy_score(y_test, y_pred)\n",
    "    print(f\"{model.__class__.__name__}: {accuracy*100:.2f}\")\n",
    "    print(\"-\"*30)"
   ]
  },
  {
   "cell_type": "code",
   "execution_count": 38,
   "metadata": {},
   "outputs": [
    {
     "data": {
      "text/plain": [
       "0.7784300341296928"
      ]
     },
     "execution_count": 38,
     "metadata": {},
     "output_type": "execute_result"
    }
   ],
   "source": [
    "from sklearn.naive_bayes import MultinomialNB\n",
    "gnb = MultinomialNB()\n",
    "gnb.fit(X_train_tfidf, y_train)\n",
    "\n",
    "y_pred = gnb.predict(X_test_tfidf)\n",
    "accuracy_score(y_test, y_pred)"
   ]
  },
  {
   "cell_type": "code",
   "execution_count": 39,
   "metadata": {},
   "outputs": [
    {
     "data": {
      "text/plain": [
       "0.8529692832764505"
      ]
     },
     "execution_count": 39,
     "metadata": {},
     "output_type": "execute_result"
    }
   ],
   "source": [
    "# Applying Logistic Regression\n",
    "\n",
    "from sklearn.linear_model import LogisticRegression\n",
    "lr = LogisticRegression()\n",
    "lr.fit(X_train_tfidf, y_train)\n",
    "\n",
    "y_pred = lr.predict(X_test_tfidf)\n",
    "accuracy_score(y_test, y_pred)"
   ]
  },
  {
   "cell_type": "code",
   "execution_count": 40,
   "metadata": {},
   "outputs": [
    {
     "data": {
      "text/plain": [
       "0.8136518771331058"
      ]
     },
     "execution_count": 40,
     "metadata": {},
     "output_type": "execute_result"
    }
   ],
   "source": [
    "# Applying Random Forest\n",
    "\n",
    "from sklearn.ensemble import RandomForestClassifier\n",
    "rf = RandomForestClassifier()\n",
    "rf.fit(X_train_tfidf, y_train)\n",
    "\n",
    "y_pred = rf.predict(X_test_tfidf)\n",
    "accuracy_score(y_test, y_pred)"
   ]
  },
  {
   "cell_type": "code",
   "execution_count": 41,
   "metadata": {},
   "outputs": [
    {
     "data": {
      "text/plain": [
       "0.8233447098976109"
      ]
     },
     "execution_count": 41,
     "metadata": {},
     "output_type": "execute_result"
    }
   ],
   "source": [
    "# Applying N-grams\n",
    "cv = CountVectorizer(ngram_range=(1, 2), max_features=10000)\n",
    "X_train_tfidf = cv.fit_transform(X_train).toarray()\n",
    "X_test_tfidf = cv.transform(X_test).toarray()\n",
    "\n",
    "rf = RandomForestClassifier()\n",
    "rf.fit(X_train_tfidf, y_train)\n",
    "\n",
    "y_pred = rf.predict(X_test_tfidf)\n",
    "accuracy_score(y_test, y_pred)"
   ]
  },
  {
   "cell_type": "code",
   "execution_count": 42,
   "metadata": {},
   "outputs": [
    {
     "data": {
      "text/plain": [
       "0.8124232081911262"
      ]
     },
     "execution_count": 42,
     "metadata": {},
     "output_type": "execute_result"
    }
   ],
   "source": [
    "tfidf_vectorizer = TfidfVectorizer()\n",
    "X_train_tfidf = tfidf_vectorizer.fit_transform(X_train)\n",
    "X_test_tfidf = tfidf_vectorizer.transform(X_test)\n",
    "\n",
    "rf = RandomForestClassifier()\n",
    "rf.fit(X_train_tfidf, y_train)\n",
    "\n",
    "y_pred = rf.predict(X_test_tfidf)\n",
    "accuracy_score(y_test, y_pred)"
   ]
  },
  {
   "cell_type": "code",
   "execution_count": 43,
   "metadata": {},
   "outputs": [
    {
     "name": "stdout",
     "output_type": "stream",
     "text": [
      "Accuracy: 0.5873037542662116\n"
     ]
    }
   ],
   "source": [
    "# Applying Naive Bayes(GaussianNB)\n",
    "tfidf_vectorizer = TfidfVectorizer(max_features=10000)\n",
    "X_train_tfidf = tfidf_vectorizer.fit_transform(X_train)\n",
    "X_test_tfidf = tfidf_vectorizer.transform(X_test)\n",
    "from sklearn.naive_bayes import GaussianNB\n",
    "from sklearn.metrics import accuracy_score\n",
    "\n",
    "gnb = GaussianNB()\n",
    "gnb.fit(X_train_tfidf.toarray(), y_train)\n",
    "\n",
    "y_pred = gnb.predict(X_test_tfidf.toarray())\n",
    "accuracy = accuracy_score(y_test, y_pred)\n",
    "print(\"Accuracy:\", accuracy)"
   ]
  },
  {
   "cell_type": "markdown",
   "metadata": {},
   "source": [
    "## Model Cheking applyig MultinomialNB"
   ]
  },
  {
   "cell_type": "code",
   "execution_count": 44,
   "metadata": {},
   "outputs": [
    {
     "name": "stdout",
     "output_type": "stream",
     "text": [
      "Probability Score for Positive Class: 0.3578714158956346\n",
      "Predicted Class: negative\n"
     ]
    }
   ],
   "source": [
    "from sklearn.feature_extraction.text import TfidfVectorizer\n",
    "from sklearn.naive_bayes import MultinomialNB\n",
    "\n",
    "# Example training data (X_train and y_train need to be defined)\n",
    "# X_train = ['sample text 1', 'sample text 2', ...]\n",
    "# y_train = [0, 1, ...]\n",
    "\n",
    "tfidf_vectorizer = TfidfVectorizer()\n",
    "\n",
    "X_train_tfidf = tfidf_vectorizer.fit_transform(X_train)\n",
    "\n",
    "# Initialize and train the model\n",
    "model = MultinomialNB()\n",
    "model.fit(X_train_tfidf, y_train)\n",
    "\n",
    "\n",
    "new_data = ['Is this effective? Is it necessary? Or is it just optics? Scare tactics? For the American consumer? For US MSM to use? If optics, What is the intended effect? Fear? Crash US Market-&gt;panic-&gt;elect Biden']\n",
    "\n",
    "new_data_tfidf = tfidf_vectorizer.transform(new_data)\n",
    "predicted_probabilities = model.predict_proba(new_data_tfidf)\n",
    "\n",
    "positive_probabilities = predicted_probabilities[:, 1]  # Assuming positive class is encoded as 1\n",
    "\n",
    "positive_threshold = 0.8\n",
    "negative_threshold = 0.2\n",
    "\n",
    "# Classify the new data based on the probability thresholds\n",
    "predictions = []\n",
    "for prob in positive_probabilities:\n",
    "    if prob >= positive_threshold:\n",
    "        predictions.append('Extremely positive')\n",
    "    elif prob >= 0.5:\n",
    "        predictions.append('positive')\n",
    "    elif prob <= negative_threshold:\n",
    "        predictions.append('Extremely negative')\n",
    "    else:\n",
    "        predictions.append('negative')\n",
    "\n",
    "predicted_labels = model.predict(new_data_tfidf)\n",
    "\n",
    "# Print the predicted class label and the probability score for each data point\n",
    "for label, probability, prediction in zip(predicted_labels, positive_probabilities, predictions):\n",
    "    print(\"Probability Score for Positive Class:\", probability)\n",
    "    print(\"Predicted Class:\", prediction)\n"
   ]
  },
  {
   "cell_type": "code",
   "execution_count": 45,
   "metadata": {},
   "outputs": [
    {
     "name": "stdout",
     "output_type": "stream",
     "text": [
      "Probability Score for Positive Class: 0.3078905930383381\n",
      "Predicted Class: negative\n"
     ]
    }
   ],
   "source": [
    "## Apply LogisticRegression\n",
    "from sklearn.feature_extraction.text import TfidfVectorizer\n",
    "from sklearn.linear_model import LogisticRegression\n",
    "\n",
    "# Example training data (X_train and y_train need to be defined)\n",
    "# X_train = ['sample text 1', 'sample text 2', ...]\n",
    "# y_train = [0, 1, ...]\n",
    "\n",
    "tfidf_vectorizer = TfidfVectorizer()\n",
    "X_train_tfidf = tfidf_vectorizer.fit_transform(X_train)\n",
    "\n",
    "# Initialize and train the model\n",
    "model = LogisticRegression()\n",
    "model.fit(X_train_tfidf, y_train)\n",
    "\n",
    "\n",
    "new_data = ['IMHO Russias rug pull on oil prices is designed to end the dollar as the global reserve currency. How? Corp debt collapse, led by high yield and fracking, compounded by COVID-19, will mean Fed and US Govt respond with #MMT. Ciao dollar. Alt is collapse. Got #Gold or #Silver yet?']\n",
    "\n",
    "new_data_tfidf = tfidf_vectorizer.transform(new_data)\n",
    "predicted_probabilities = model.predict_proba(new_data_tfidf)\n",
    "\n",
    "positive_probabilities = predicted_probabilities[:, 1]  # Assuming positive class is encoded as 1\n",
    "\n",
    "positive_threshold = 0.8\n",
    "negative_threshold = 0.2\n",
    "\n",
    "# Classify the new data based on the probability thresholds\n",
    "predictions = []\n",
    "for prob in positive_probabilities:\n",
    "    if prob >= positive_threshold:\n",
    "        predictions.append('Extremely positive')\n",
    "    elif prob >= 0.5:\n",
    "        predictions.append('positive')\n",
    "    elif prob <= negative_threshold:\n",
    "        predictions.append('Extremely negative')\n",
    "    else:\n",
    "        predictions.append('negative')\n",
    "\n",
    "predicted_labels = model.predict(new_data_tfidf)\n",
    "\n",
    "# Print the predicted class label and the probability score for each data point\n",
    "for label, probability, prediction in zip(predicted_labels, positive_probabilities, predictions):\n",
    "    print(\"Probability Score for Positive Class:\", probability)\n",
    "    print(\"Predicted Class:\", prediction)"
   ]
  },
  {
   "cell_type": "markdown",
   "metadata": {},
   "source": [
    "### After Snwoball Stemming\n"
   ]
  },
  {
   "cell_type": "code",
   "execution_count": 46,
   "metadata": {},
   "outputs": [
    {
     "data": {
      "text/html": [
       "<div>\n",
       "<style scoped>\n",
       "    .dataframe tbody tr th:only-of-type {\n",
       "        vertical-align: middle;\n",
       "    }\n",
       "\n",
       "    .dataframe tbody tr th {\n",
       "        vertical-align: top;\n",
       "    }\n",
       "\n",
       "    .dataframe thead th {\n",
       "        text-align: right;\n",
       "    }\n",
       "</style>\n",
       "<table border=\"1\" class=\"dataframe\">\n",
       "  <thead>\n",
       "    <tr style=\"text-align: right;\">\n",
       "      <th></th>\n",
       "      <th>UserName</th>\n",
       "      <th>ScreenName</th>\n",
       "      <th>OriginalTweet</th>\n",
       "      <th>Sentiment</th>\n",
       "      <th>tweet_copy2</th>\n",
       "      <th>tweet_copy1</th>\n",
       "      <th>tweet_copy3</th>\n",
       "      <th>Label</th>\n",
       "    </tr>\n",
       "  </thead>\n",
       "  <tbody>\n",
       "    <tr>\n",
       "      <th>1</th>\n",
       "      <td>3800</td>\n",
       "      <td>48752</td>\n",
       "      <td>advice Talk to your neighbours family to excha...</td>\n",
       "      <td>Positive</td>\n",
       "      <td>advice talk neighbours family exchange phone n...</td>\n",
       "      <td>advic talk neighbour famili exchang phone numb...</td>\n",
       "      <td>advice talk neighbours family exchange phone n...</td>\n",
       "      <td>1</td>\n",
       "    </tr>\n",
       "    <tr>\n",
       "      <th>2</th>\n",
       "      <td>3801</td>\n",
       "      <td>48753</td>\n",
       "      <td>Coronavirus Australia: Woolworths to give elde...</td>\n",
       "      <td>Positive</td>\n",
       "      <td>coronavirus australia woolworths give elderly ...</td>\n",
       "      <td>coronaviru australia woolworth give elderli di...</td>\n",
       "      <td>coronavirus australia woolworths give elderly ...</td>\n",
       "      <td>1</td>\n",
       "    </tr>\n",
       "    <tr>\n",
       "      <th>3</th>\n",
       "      <td>3802</td>\n",
       "      <td>48754</td>\n",
       "      <td>My food stock is not the only one which is emp...</td>\n",
       "      <td>Positive</td>\n",
       "      <td>food stock one empty please dont panic enough ...</td>\n",
       "      <td>food stock one empti pleas dont panic enough f...</td>\n",
       "      <td>food stock one empty please dont panic enough ...</td>\n",
       "      <td>1</td>\n",
       "    </tr>\n",
       "    <tr>\n",
       "      <th>4</th>\n",
       "      <td>3803</td>\n",
       "      <td>48755</td>\n",
       "      <td>Me, ready to go at supermarket during the #COV...</td>\n",
       "      <td>Extremely Negative</td>\n",
       "      <td>ready go supermarket covid19 outbreak im paran...</td>\n",
       "      <td>readi go supermarket covid19 outbreak im paran...</td>\n",
       "      <td>ready go supermarket covid19 outbreak im paran...</td>\n",
       "      <td>0</td>\n",
       "    </tr>\n",
       "    <tr>\n",
       "      <th>5</th>\n",
       "      <td>3804</td>\n",
       "      <td>48756</td>\n",
       "      <td>As news of the regionÂs first confirmed COVID...</td>\n",
       "      <td>Positive</td>\n",
       "      <td>news regionâs first confirmed covid19 case ca...</td>\n",
       "      <td>news regionâ first confirm covid19 case came ...</td>\n",
       "      <td>news regionâs first confirmed covid19 case ca...</td>\n",
       "      <td>1</td>\n",
       "    </tr>\n",
       "    <tr>\n",
       "      <th>...</th>\n",
       "      <td>...</td>\n",
       "      <td>...</td>\n",
       "      <td>...</td>\n",
       "      <td>...</td>\n",
       "      <td>...</td>\n",
       "      <td>...</td>\n",
       "      <td>...</td>\n",
       "      <td>...</td>\n",
       "    </tr>\n",
       "    <tr>\n",
       "      <th>115</th>\n",
       "      <td>3914</td>\n",
       "      <td>48866</td>\n",
       "      <td>@SPARintheUK Can you confirm why in store sign...</td>\n",
       "      <td>Positive</td>\n",
       "      <td>sparintheuk confirm store signage says youre t...</td>\n",
       "      <td>sparintheuk confirm store signag say your take...</td>\n",
       "      <td>sparintheuk confirm store signage says youre t...</td>\n",
       "      <td>1</td>\n",
       "    </tr>\n",
       "    <tr>\n",
       "      <th>116</th>\n",
       "      <td>3915</td>\n",
       "      <td>48867</td>\n",
       "      <td>More idiots at work causing unnecessary proble...</td>\n",
       "      <td>Negative</td>\n",
       "      <td>idiots work causing unnecessary problems empty...</td>\n",
       "      <td>idiot work caus unnecessari problem empti shel...</td>\n",
       "      <td>idiots work causing unnecessary problems empty...</td>\n",
       "      <td>0</td>\n",
       "    </tr>\n",
       "    <tr>\n",
       "      <th>117</th>\n",
       "      <td>3916</td>\n",
       "      <td>48868</td>\n",
       "      <td>It's fringing idiots like him who have caused ...</td>\n",
       "      <td>Positive</td>\n",
       "      <td>fringing idiots like caused prices rise amp cr...</td>\n",
       "      <td>fring idiot like caus price rise amp creat sho...</td>\n",
       "      <td>fringing idiots like caused prices rise amp cr...</td>\n",
       "      <td>1</td>\n",
       "    </tr>\n",
       "    <tr>\n",
       "      <th>118</th>\n",
       "      <td>3917</td>\n",
       "      <td>48869</td>\n",
       "      <td>CONGRESS (TEMPORARILY?) PARALYZED \\r\\r\\n\\r\\r\\n...</td>\n",
       "      <td>Negative</td>\n",
       "      <td>congress temporarily paralyzed â house still ...</td>\n",
       "      <td>congress temporarili paralyz â hous still fin...</td>\n",
       "      <td>congress temporarily paralyzed â house still ...</td>\n",
       "      <td>0</td>\n",
       "    </tr>\n",
       "    <tr>\n",
       "      <th>119</th>\n",
       "      <td>3918</td>\n",
       "      <td>48870</td>\n",
       "      <td>The Consumer Financial Protection Bureau has r...</td>\n",
       "      <td>Positive</td>\n",
       "      <td>consumer financial protection bureau reported ...</td>\n",
       "      <td>consum financi protect bureau report one emplo...</td>\n",
       "      <td>consumer financial protection bureau reported ...</td>\n",
       "      <td>1</td>\n",
       "    </tr>\n",
       "  </tbody>\n",
       "</table>\n",
       "<p>100 rows × 8 columns</p>\n",
       "</div>"
      ],
      "text/plain": [
       "     UserName  ScreenName                                      OriginalTweet  \\\n",
       "1        3800       48752  advice Talk to your neighbours family to excha...   \n",
       "2        3801       48753  Coronavirus Australia: Woolworths to give elde...   \n",
       "3        3802       48754  My food stock is not the only one which is emp...   \n",
       "4        3803       48755  Me, ready to go at supermarket during the #COV...   \n",
       "5        3804       48756  As news of the regionÂs first confirmed COVID...   \n",
       "..        ...         ...                                                ...   \n",
       "115      3914       48866  @SPARintheUK Can you confirm why in store sign...   \n",
       "116      3915       48867  More idiots at work causing unnecessary proble...   \n",
       "117      3916       48868  It's fringing idiots like him who have caused ...   \n",
       "118      3917       48869  CONGRESS (TEMPORARILY?) PARALYZED \\r\\r\\n\\r\\r\\n...   \n",
       "119      3918       48870  The Consumer Financial Protection Bureau has r...   \n",
       "\n",
       "              Sentiment                                        tweet_copy2  \\\n",
       "1              Positive  advice talk neighbours family exchange phone n...   \n",
       "2              Positive  coronavirus australia woolworths give elderly ...   \n",
       "3              Positive  food stock one empty please dont panic enough ...   \n",
       "4    Extremely Negative  ready go supermarket covid19 outbreak im paran...   \n",
       "5              Positive  news regionâs first confirmed covid19 case ca...   \n",
       "..                  ...                                                ...   \n",
       "115            Positive  sparintheuk confirm store signage says youre t...   \n",
       "116            Negative  idiots work causing unnecessary problems empty...   \n",
       "117            Positive  fringing idiots like caused prices rise amp cr...   \n",
       "118            Negative  congress temporarily paralyzed â house still ...   \n",
       "119            Positive  consumer financial protection bureau reported ...   \n",
       "\n",
       "                                           tweet_copy1  \\\n",
       "1    advic talk neighbour famili exchang phone numb...   \n",
       "2    coronaviru australia woolworth give elderli di...   \n",
       "3    food stock one empti pleas dont panic enough f...   \n",
       "4    readi go supermarket covid19 outbreak im paran...   \n",
       "5    news regionâ first confirm covid19 case came ...   \n",
       "..                                                 ...   \n",
       "115  sparintheuk confirm store signag say your take...   \n",
       "116  idiot work caus unnecessari problem empti shel...   \n",
       "117  fring idiot like caus price rise amp creat sho...   \n",
       "118  congress temporarili paralyz â hous still fin...   \n",
       "119  consum financi protect bureau report one emplo...   \n",
       "\n",
       "                                           tweet_copy3  Label  \n",
       "1    advice talk neighbours family exchange phone n...      1  \n",
       "2    coronavirus australia woolworths give elderly ...      1  \n",
       "3    food stock one empty please dont panic enough ...      1  \n",
       "4    ready go supermarket covid19 outbreak im paran...      0  \n",
       "5    news regionâs first confirmed covid19 case ca...      1  \n",
       "..                                                 ...    ...  \n",
       "115  sparintheuk confirm store signage says youre t...      1  \n",
       "116  idiots work causing unnecessary problems empty...      0  \n",
       "117  fringing idiots like caused prices rise amp cr...      1  \n",
       "118  congress temporarily paralyzed â house still ...      0  \n",
       "119  consumer financial protection bureau reported ...      1  \n",
       "\n",
       "[100 rows x 8 columns]"
      ]
     },
     "execution_count": 46,
     "metadata": {},
     "output_type": "execute_result"
    }
   ],
   "source": [
    "from nltk.stem import SnowballStemmer\n",
    "import pandas as pd\n",
    "stemmer = SnowballStemmer('english')\n",
    "\n",
    "for tweet in corona1['tweet_copy2']:\n",
    "    stemmed_tweet = ' '.join([stemmer.stem(word) for word in tweet.split()])\n",
    "corona1.head(100)"
   ]
  },
  {
   "cell_type": "code",
   "execution_count": 47,
   "metadata": {},
   "outputs": [],
   "source": [
    "from sklearn.model_selection import train_test_split\n",
    "from sklearn.feature_extraction.text import TfidfVectorizer\n",
    "from sklearn.metrics import accuracy_score\n",
    "from sklearn.metrics import classification_report\n",
    "\n",
    "from sklearn.naive_bayes import MultinomialNB\n",
    "from sklearn.linear_model import LogisticRegression\n",
    "from sklearn.tree import DecisionTreeClassifier\n",
    "from sklearn.ensemble import RandomForestClassifier\n",
    "\n",
    "X = corona1[\"tweet_copy2\"]\n",
    "y = corona1[\"Label\"]\n",
    "\n",
    "X_train, X_test, y_train, y_test = train_test_split(X, y, test_size=0.2, random_state=1)"
   ]
  },
  {
   "cell_type": "code",
   "execution_count": 48,
   "metadata": {},
   "outputs": [
    {
     "data": {
      "text/plain": [
       "1       advice talk neighbours family exchange phone n...\n",
       "2       coronavirus australia woolworths give elderly ...\n",
       "3       food stock one empty please dont panic enough ...\n",
       "4       ready go supermarket covid19 outbreak im paran...\n",
       "5       news regionâs first confirmed covid19 case ca...\n",
       "                              ...                        \n",
       "3792    ricepolitics mdcounties craig call general ass...\n",
       "3793    meanwhile supermarket israel people dance sing...\n",
       "3794    panic buy lot nonperishable items echo needs f...\n",
       "3796    gov need somethings instead biar je rakyat ass...\n",
       "3797    forestandpaper members committed safety employ...\n",
       "Name: tweet_copy2, Length: 36623, dtype: object"
      ]
     },
     "execution_count": 48,
     "metadata": {},
     "output_type": "execute_result"
    }
   ],
   "source": [
    "X"
   ]
  },
  {
   "cell_type": "code",
   "execution_count": 49,
   "metadata": {},
   "outputs": [
    {
     "data": {
      "text/plain": [
       "1       1\n",
       "2       1\n",
       "3       1\n",
       "4       0\n",
       "5       1\n",
       "       ..\n",
       "3792    0\n",
       "3793    1\n",
       "3794    0\n",
       "3796    0\n",
       "3797    1\n",
       "Name: Label, Length: 36623, dtype: int32"
      ]
     },
     "execution_count": 49,
     "metadata": {},
     "output_type": "execute_result"
    }
   ],
   "source": [
    "y"
   ]
  },
  {
   "cell_type": "code",
   "execution_count": 50,
   "metadata": {},
   "outputs": [],
   "source": [
    "tfidf_vectorizer = TfidfVectorizer()\n",
    "X_train_tfidf = tfidf_vectorizer.fit_transform(X_train)\n",
    "X_test_tfidf = tfidf_vectorizer.transform(X_test)"
   ]
  },
  {
   "cell_type": "code",
   "execution_count": 51,
   "metadata": {},
   "outputs": [
    {
     "name": "stdout",
     "output_type": "stream",
     "text": [
      "MultinomialNB: 77.95\n",
      "------------------------------\n",
      "LogisticRegression: 85.04\n",
      "------------------------------\n",
      "DecisionTreeClassifier: 74.28\n",
      "------------------------------\n",
      "RandomForestClassifier: 80.67\n",
      "------------------------------\n"
     ]
    }
   ],
   "source": [
    "models = [\n",
    "    MultinomialNB(),\n",
    "    LogisticRegression(),\n",
    "    DecisionTreeClassifier(),\n",
    "    RandomForestClassifier()\n",
    "]\n",
    "\n",
    "for model in models:\n",
    "    model.fit(X_train_tfidf, y_train)\n",
    "    y_pred = model.predict(X_test_tfidf)\n",
    "    accuracy = accuracy_score(y_test, y_pred)\n",
    "    print(f\"{model.__class__.__name__}: {accuracy*100:.2f}\")\n",
    "    print(\"-\"*30)"
   ]
  },
  {
   "cell_type": "markdown",
   "metadata": {},
   "source": [
    "### Use of Lemitization"
   ]
  },
  {
   "cell_type": "code",
   "execution_count": 52,
   "metadata": {},
   "outputs": [
    {
     "name": "stderr",
     "output_type": "stream",
     "text": [
      "[nltk_data] Downloading package wordnet to\n",
      "[nltk_data]     C:\\Users\\manna\\AppData\\Roaming\\nltk_data...\n",
      "[nltk_data]   Package wordnet is already up-to-date!\n",
      "C:\\Users\\manna\\AppData\\Local\\Temp\\ipykernel_824\\2115217435.py:7: FutureWarning: A value is trying to be set on a copy of a DataFrame or Series through chained assignment using an inplace method.\n",
      "The behavior will change in pandas 3.0. This inplace method will never work because the intermediate object on which we are setting values always behaves as a copy.\n",
      "\n",
      "For example, when doing 'df[col].method(value, inplace=True)', try using 'df.method({col: value}, inplace=True)' or df[col] = df[col].method(value) instead, to perform the operation inplace on the original object.\n",
      "\n",
      "\n",
      "  corona1['tweet_copy3'].fillna('', inplace=True)\n",
      "C:\\Users\\manna\\AppData\\Local\\Temp\\ipykernel_824\\2115217435.py:7: SettingWithCopyWarning: \n",
      "A value is trying to be set on a copy of a slice from a DataFrame\n",
      "\n",
      "See the caveats in the documentation: https://pandas.pydata.org/pandas-docs/stable/user_guide/indexing.html#returning-a-view-versus-a-copy\n",
      "  corona1['tweet_copy3'].fillna('', inplace=True)\n"
     ]
    },
    {
     "name": "stdout",
     "output_type": "stream",
     "text": [
      "     UserName  ScreenName                                      OriginalTweet  \\\n",
      "1        3800       48752  advice Talk to your neighbours family to excha...   \n",
      "2        3801       48753  Coronavirus Australia: Woolworths to give elde...   \n",
      "3        3802       48754  My food stock is not the only one which is emp...   \n",
      "4        3803       48755  Me, ready to go at supermarket during the #COV...   \n",
      "5        3804       48756  As news of the regionÂs first confirmed COVID...   \n",
      "..        ...         ...                                                ...   \n",
      "115      3914       48866  @SPARintheUK Can you confirm why in store sign...   \n",
      "116      3915       48867  More idiots at work causing unnecessary proble...   \n",
      "117      3916       48868  It's fringing idiots like him who have caused ...   \n",
      "118      3917       48869  CONGRESS (TEMPORARILY?) PARALYZED \\r\\r\\n\\r\\r\\n...   \n",
      "119      3918       48870  The Consumer Financial Protection Bureau has r...   \n",
      "\n",
      "              Sentiment                                        tweet_copy2  \\\n",
      "1              Positive  advice talk neighbours family exchange phone n...   \n",
      "2              Positive  coronavirus australia woolworths give elderly ...   \n",
      "3              Positive  food stock one empty please dont panic enough ...   \n",
      "4    Extremely Negative  ready go supermarket covid19 outbreak im paran...   \n",
      "5              Positive  news regionâs first confirmed covid19 case ca...   \n",
      "..                  ...                                                ...   \n",
      "115            Positive  sparintheuk confirm store signage says youre t...   \n",
      "116            Negative  idiots work causing unnecessary problems empty...   \n",
      "117            Positive  fringing idiots like caused prices rise amp cr...   \n",
      "118            Negative  congress temporarily paralyzed â house still ...   \n",
      "119            Positive  consumer financial protection bureau reported ...   \n",
      "\n",
      "                                           tweet_copy1  \\\n",
      "1    advic talk neighbour famili exchang phone numb...   \n",
      "2    coronaviru australia woolworth give elderli di...   \n",
      "3    food stock one empti pleas dont panic enough f...   \n",
      "4    readi go supermarket covid19 outbreak im paran...   \n",
      "5    news regionâ first confirm covid19 case came ...   \n",
      "..                                                 ...   \n",
      "115  sparintheuk confirm store signag say your take...   \n",
      "116  idiot work caus unnecessari problem empti shel...   \n",
      "117  fring idiot like caus price rise amp creat sho...   \n",
      "118  congress temporarili paralyz â hous still fin...   \n",
      "119  consum financi protect bureau report one emplo...   \n",
      "\n",
      "                                           tweet_copy3  Label  \\\n",
      "1    advice talk neighbours family exchange phone n...      1   \n",
      "2    coronavirus australia woolworths give elderly ...      1   \n",
      "3    food stock one empty please dont panic enough ...      1   \n",
      "4    ready go supermarket covid19 outbreak im paran...      0   \n",
      "5    news regionâs first confirmed covid19 case ca...      1   \n",
      "..                                                 ...    ...   \n",
      "115  sparintheuk confirm store signage says youre t...      1   \n",
      "116  idiots work causing unnecessary problems empty...      0   \n",
      "117  fringing idiots like caused prices rise amp cr...      1   \n",
      "118  congress temporarily paralyzed â house still ...      0   \n",
      "119  consumer financial protection bureau reported ...      1   \n",
      "\n",
      "                                      lemmatized_tweet  \n",
      "1    advice talk neighbour family exchange phone nu...  \n",
      "2    coronavirus australia woolworth give elderly d...  \n",
      "3    food stock one empty please dont panic enough ...  \n",
      "4    ready go supermarket covid19 outbreak im paran...  \n",
      "5    news regionâs first confirmed covid19 case ca...  \n",
      "..                                                 ...  \n",
      "115  sparintheuk confirm store signage say youre ta...  \n",
      "116  idiot work causing unnecessary problem empty s...  \n",
      "117  fringing idiot like caused price rise amp crea...  \n",
      "118  congress temporarily paralyzed â house still ...  \n",
      "119  consumer financial protection bureau reported ...  \n",
      "\n",
      "[100 rows x 9 columns]\n"
     ]
    },
    {
     "name": "stderr",
     "output_type": "stream",
     "text": [
      "C:\\Users\\manna\\AppData\\Local\\Temp\\ipykernel_824\\2115217435.py:9: SettingWithCopyWarning: \n",
      "A value is trying to be set on a copy of a slice from a DataFrame.\n",
      "Try using .loc[row_indexer,col_indexer] = value instead\n",
      "\n",
      "See the caveats in the documentation: https://pandas.pydata.org/pandas-docs/stable/user_guide/indexing.html#returning-a-view-versus-a-copy\n",
      "  corona1['lemmatized_tweet'] = corona1['tweet_copy3'].apply(lambda tweet: ' '.join([lemmatizer.lemmatize(word) for word in tweet.split()]))\n"
     ]
    }
   ],
   "source": [
    "nltk.download('wordnet')\n",
    "from nltk.stem import WordNetLemmatizer\n",
    "import pandas as pd\n",
    "import numpy as np\n",
    "lemmatizer = WordNetLemmatizer()\n",
    "\n",
    "corona1['tweet_copy3'].fillna('', inplace=True)\n",
    "\n",
    "corona1['lemmatized_tweet'] = corona1['tweet_copy3'].apply(lambda tweet: ' '.join([lemmatizer.lemmatize(word) for word in tweet.split()]))\n",
    "print(corona1.head(100))"
   ]
  },
  {
   "cell_type": "code",
   "execution_count": 53,
   "metadata": {},
   "outputs": [],
   "source": [
    "from sklearn.model_selection import train_test_split\n",
    "from sklearn.feature_extraction.text import TfidfVectorizer\n",
    "from sklearn.metrics import accuracy_score\n",
    "from sklearn.metrics import classification_report\n",
    "\n",
    "from sklearn.naive_bayes import MultinomialNB\n",
    "from sklearn.linear_model import LogisticRegression\n",
    "from sklearn.tree import DecisionTreeClassifier\n",
    "from sklearn.ensemble import RandomForestClassifier\n",
    "\n",
    "X = corona1[\"tweet_copy3\"]\n",
    "y = corona1[\"Label\"]\n",
    "\n",
    "X_train, X_test, y_train, y_test = train_test_split(X, y, test_size=0.2, random_state=1)"
   ]
  },
  {
   "cell_type": "code",
   "execution_count": 54,
   "metadata": {},
   "outputs": [],
   "source": [
    "import numpy as np\n",
    "from sklearn.feature_extraction.text import TfidfVectorizer\n",
    "\n",
    "nan_indices_train = np.isnan(y_train)\n",
    "nan_indices_test = np.isnan(y_test)\n",
    "\n",
    "X_train_clean = X_train[~nan_indices_train]\n",
    "X_test_clean = X_test[~nan_indices_test]\n",
    "y_train_clean = y_train[~nan_indices_train]\n",
    "y_test_clean = y_test[~nan_indices_test]\n",
    "\n"
   ]
  },
  {
   "cell_type": "code",
   "execution_count": 55,
   "metadata": {},
   "outputs": [
    {
     "name": "stdout",
     "output_type": "stream",
     "text": [
      "MultinomialNB: 77.95\n",
      "------------------------------\n",
      "LogisticRegression: 85.04\n",
      "------------------------------\n",
      "DecisionTreeClassifier: 74.21\n",
      "------------------------------\n",
      "RandomForestClassifier: 80.97\n",
      "------------------------------\n"
     ]
    }
   ],
   "source": [
    "models = [\n",
    "    MultinomialNB(),\n",
    "    LogisticRegression(),\n",
    "    DecisionTreeClassifier(),\n",
    "    RandomForestClassifier()\n",
    "]\n",
    "\n",
    "for model in models:\n",
    "    try:\n",
    "          model.fit(X_train_tfidf, y_train_clean)\n",
    "          y_pred = model.predict(X_test_tfidf)\n",
    "          accuracy = accuracy_score(y_test_clean, y_pred)\n",
    "          print(f\"{model.__class__.__name__}: {accuracy*100:.2f}\")\n",
    "          print(\"-\" * 30)\n",
    "    except ValueError as e:\n",
    "          print(f\"Error occurred for {model.__class__.__name__}: {e}\")"
   ]
  },
  {
   "cell_type": "code",
   "execution_count": null,
   "metadata": {},
   "outputs": [],
   "source": []
  },
  {
   "cell_type": "code",
   "execution_count": null,
   "metadata": {},
   "outputs": [],
   "source": []
  },
  {
   "cell_type": "code",
   "execution_count": null,
   "metadata": {},
   "outputs": [],
   "source": []
  },
  {
   "cell_type": "code",
   "execution_count": null,
   "metadata": {},
   "outputs": [],
   "source": []
  },
  {
   "cell_type": "code",
   "execution_count": null,
   "metadata": {},
   "outputs": [],
   "source": []
  }
 ],
 "metadata": {
  "kernelspec": {
   "display_name": "Python 3",
   "language": "python",
   "name": "python3"
  },
  "language_info": {
   "codemirror_mode": {
    "name": "ipython",
    "version": 3
   },
   "file_extension": ".py",
   "mimetype": "text/x-python",
   "name": "python",
   "nbconvert_exporter": "python",
   "pygments_lexer": "ipython3",
   "version": "3.11.9"
  }
 },
 "nbformat": 4,
 "nbformat_minor": 2
}
